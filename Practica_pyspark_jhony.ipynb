{
  "cells": [
    {
      "cell_type": "markdown",
      "metadata": {
        "id": "view-in-github",
        "colab_type": "text"
      },
      "source": [
        "<a href=\"https://colab.research.google.com/github/jhonycq/Practicas-python-pyspark/blob/main/Practica_pyspark_jhony.ipynb\" target=\"_parent\"><img src=\"https://colab.research.google.com/assets/colab-badge.svg\" alt=\"Open In Colab\"/></a>"
      ]
    },
    {
      "cell_type": "markdown",
      "metadata": {
        "id": "3-F8PbndyiQC"
      },
      "source": []
    },
    {
      "cell_type": "code",
      "execution_count": null,
      "metadata": {
        "colab": {
          "base_uri": "https://localhost:8080/"
        },
        "id": "NwUUkk12gU5u",
        "outputId": "ce1bdeb2-5173-4eff-9dde-4602486d645c"
      },
      "outputs": [
        {
          "output_type": "stream",
          "name": "stdout",
          "text": [
            "Looking in indexes: https://pypi.org/simple, https://us-python.pkg.dev/colab-wheels/public/simple/\n",
            "Collecting pyspark\n",
            "  Downloading pyspark-3.3.1.tar.gz (281.4 MB)\n",
            "\u001b[K     |████████████████████████████████| 281.4 MB 44 kB/s \n",
            "\u001b[?25hCollecting py4j==0.10.9.5\n",
            "  Downloading py4j-0.10.9.5-py2.py3-none-any.whl (199 kB)\n",
            "\u001b[K     |████████████████████████████████| 199 kB 50.8 MB/s \n",
            "\u001b[?25hBuilding wheels for collected packages: pyspark\n",
            "  Building wheel for pyspark (setup.py) ... \u001b[?25l\u001b[?25hdone\n",
            "  Created wheel for pyspark: filename=pyspark-3.3.1-py2.py3-none-any.whl size=281845514 sha256=38f05cc4004302df17846b0a4204a8aa1a6108793ecf7b636770ffd03b32ff04\n",
            "  Stored in directory: /root/.cache/pip/wheels/42/59/f5/79a5bf931714dcd201b26025347785f087370a10a3329a899c\n",
            "Successfully built pyspark\n",
            "Installing collected packages: py4j, pyspark\n",
            "Successfully installed py4j-0.10.9.5 pyspark-3.3.1\n"
          ]
        }
      ],
      "source": [
        "pip install pyspark"
      ]
    },
    {
      "cell_type": "code",
      "source": [
        "from pyspark.sql import SparkSession\n",
        "\n",
        "import datetime\n",
        "\n",
        "spark = SparkSession.builder.appName(\"jhony\").config(\"spark.jars\", \"postgresql-42.3.3.jar\").getOrCreate()\n",
        "\n",
        "servidor=\"34.132.209.74\" \n",
        "puerto = 5432 \n",
        "db = \"base-datos-spark\" \n",
        "usuario= \"matthew\" \n",
        "contraseña = \"matthew\" \n",
        "tabla_customers=\"customers\" \n",
        "\n",
        "\n",
        "url = f\"jdbc:postgresql://{servidor}/{db}\"\n",
        "\n",
        "customers_df = spark.read \\\n",
        "\t.format(\"jdbc\") \\\n",
        "    .option(\"url\", url)\\\n",
        "    .option(\"dbtable\", tabla_customers)\\\n",
        "    .option(\"user\", usuario)\\\n",
        "    .option(\"password\", contraseña)\\\n",
        "    .option(\"driver\", \"org.postgresql.Driver\")\\\n",
        "    .load()\n",
        "\n",
        "ruta_bucket = f\"/content/archivos/test/customers/\"\n",
        "customers_df.repartition(4).write.mode('overwrite').option(\"compression\",\"gzip\").parquet(ruta_bucket)"
      ],
      "metadata": {
        "id": "nNTwaY7RhacK"
      },
      "execution_count": null,
      "outputs": []
    },
    {
      "cell_type": "code",
      "execution_count": null,
      "metadata": {
        "id": "dhgdIDxqM3-B"
      },
      "outputs": [],
      "source": [
        "# tabla de suppliers (proveedores)\n",
        "suppliers_df = spark.read \\\n",
        "\t.format(\"jdbc\") \\\n",
        "    .option(\"url\", url)\\\n",
        "    .option(\"dbtable\", \"suppliers\")\\\n",
        "    .option(\"user\", usuario)\\\n",
        "    .option(\"password\", contraseña)\\\n",
        "    .option(\"driver\", \"org.postgresql.Driver\")\\\n",
        "    .load()\n",
        "\n",
        "# tabla employees (empleados)\n",
        "Employees_df = spark.read \\\n",
        "\t.format(\"jdbc\") \\\n",
        "    .option(\"url\", url)\\\n",
        "    .option(\"dbtable\", \"employees\")\\\n",
        "    .option(\"user\", usuario)\\\n",
        "    .option(\"password\", contraseña)\\\n",
        "    .option(\"driver\", \"org.postgresql.Driver\")\\\n",
        "    .load()\n",
        "\n",
        "# tabla products (productos)\n",
        "products_df = spark.read \\\n",
        "\t.format(\"jdbc\") \\\n",
        "    .option(\"url\", url)\\\n",
        "    .option(\"dbtable\", \"products\")\\\n",
        "    .option(\"user\", usuario)\\\n",
        "    .option(\"password\", contraseña)\\\n",
        "    .option(\"driver\", \"org.postgresql.Driver\")\\\n",
        "    .load()\n",
        "# tabla orders (ordenes)\n",
        "orders_df = spark.read \\\n",
        "\t.format(\"jdbc\") \\\n",
        "    .option(\"url\", url)\\\n",
        "    .option(\"dbtable\", \"orders\")\\\n",
        "    .option(\"user\", usuario)\\\n",
        "    .option(\"password\", contraseña)\\\n",
        "    .option(\"driver\", \"org.postgresql.Driver\")\\\n",
        "    .load()"
      ]
    },
    {
      "cell_type": "code",
      "source": [
        "# 1. Seleccionar los clientes que viven en el país de \"usa\"\n",
        "customers_df.printSchema()"
      ],
      "metadata": {
        "colab": {
          "base_uri": "https://localhost:8080/"
        },
        "id": "l_wSZavOMZVA",
        "outputId": "b47fbc26-41bd-4f24-cfbf-4f629257d9d4"
      },
      "execution_count": null,
      "outputs": [
        {
          "output_type": "stream",
          "name": "stdout",
          "text": [
            "root\n",
            " |-- customer_id: string (nullable = true)\n",
            " |-- company_name: string (nullable = true)\n",
            " |-- contact_name: string (nullable = true)\n",
            " |-- contact_title: string (nullable = true)\n",
            " |-- address: string (nullable = true)\n",
            " |-- city: string (nullable = true)\n",
            " |-- region: string (nullable = true)\n",
            " |-- postal_code: string (nullable = true)\n",
            " |-- country: string (nullable = true)\n",
            " |-- phone: string (nullable = true)\n",
            " |-- fax: string (nullable = true)\n",
            "\n"
          ]
        }
      ]
    },
    {
      "cell_type": "code",
      "source": [
        "customers_df.filter(customers_df.country == 'USA').show(5)"
      ],
      "metadata": {
        "colab": {
          "base_uri": "https://localhost:8080/"
        },
        "id": "yAXMaLrCQQtL",
        "outputId": "c47df463-3d28-4c60-b46a-decef73dfe85"
      },
      "execution_count": null,
      "outputs": [
        {
          "output_type": "stream",
          "name": "stdout",
          "text": [
            "+-----------+--------------------+-------------+--------------------+--------------------+-------------+------+-----------+-------+--------------+--------------+\n",
            "|customer_id|        company_name| contact_name|       contact_title|             address|         city|region|postal_code|country|         phone|           fax|\n",
            "+-----------+--------------------+-------------+--------------------+--------------------+-------------+------+-----------+-------+--------------+--------------+\n",
            "|      GREAL|Great Lakes Food ...|Howard Snyder|   Marketing Manager|    2732 Baker Blvd.|       Eugene|    OR|      97403|    USA|(503) 555-7555|          null|\n",
            "|      HUNGC|Hungry Coyote Imp...|Yoshi Latimer|Sales Representative|City Center Plaza...|        Elgin|    OR|      97827|    USA|(503) 555-6874|(503) 555-2376|\n",
            "|      LAZYK|Lazy K Kountry Store|   John Steel|   Marketing Manager|12 Orchestra Terrace|  Walla Walla|    WA|      99362|    USA|(509) 555-7969|(509) 555-6221|\n",
            "|      LETSS|   Let's Stop N Shop| Jaime Yorres|               Owner| 87 Polk St. Suite 5|San Francisco|    CA|      94117|    USA|(415) 555-5938|          null|\n",
            "|      LONEP|Lonesome Pine Res...|  Fran Wilson|       Sales Manager|  89 Chiaroscuro Rd.|     Portland|    OR|      97219|    USA|(503) 555-9573|(503) 555-9646|\n",
            "+-----------+--------------------+-------------+--------------------+--------------------+-------------+------+-----------+-------+--------------+--------------+\n",
            "only showing top 5 rows\n",
            "\n"
          ]
        }
      ]
    },
    {
      "cell_type": "code",
      "source": [
        "# 2. Seleccionar los proveedores que viven en la ciudad de \"BERLIN\"\n",
        "suppliers_df.printSchema()"
      ],
      "metadata": {
        "colab": {
          "base_uri": "https://localhost:8080/"
        },
        "id": "MJAchWp7RFTA",
        "outputId": "903de93e-3824-435d-ae34-7f8aa03c3f02"
      },
      "execution_count": null,
      "outputs": [
        {
          "output_type": "stream",
          "name": "stdout",
          "text": [
            "root\n",
            " |-- supplier_id: short (nullable = true)\n",
            " |-- company_name: string (nullable = true)\n",
            " |-- contact_name: string (nullable = true)\n",
            " |-- contact_title: string (nullable = true)\n",
            " |-- address: string (nullable = true)\n",
            " |-- city: string (nullable = true)\n",
            " |-- region: string (nullable = true)\n",
            " |-- postal_code: string (nullable = true)\n",
            " |-- country: string (nullable = true)\n",
            " |-- phone: string (nullable = true)\n",
            " |-- fax: string (nullable = true)\n",
            " |-- homepage: string (nullable = true)\n",
            "\n"
          ]
        }
      ]
    },
    {
      "cell_type": "code",
      "source": [
        "suppliers_df.filter(suppliers_df.city == 'Berlin').show(truncate=False)"
      ],
      "metadata": {
        "colab": {
          "base_uri": "https://localhost:8080/"
        },
        "id": "Bf47XFNQS3UY",
        "outputId": "b2c98dc1-279d-4175-fd49-eff6654cda66"
      },
      "execution_count": null,
      "outputs": [
        {
          "output_type": "stream",
          "name": "stdout",
          "text": [
            "+-----------+---------------------------+-------------+-------------+------------------+------+------+-----------+-------+-------------+----+--------+\n",
            "|supplier_id|company_name               |contact_name |contact_title|address           |city  |region|postal_code|country|phone        |fax |homepage|\n",
            "+-----------+---------------------------+-------------+-------------+------------------+------+------+-----------+-------+-------------+----+--------+\n",
            "|11         |Heli Süßwaren GmbH & Co. KG|Petra Winkler|Sales Manager|Tiergartenstraße 5|Berlin|null  |10785      |Germany|(010) 9984510|null|null    |\n",
            "+-----------+---------------------------+-------------+-------------+------------------+------+------+-----------+-------+-------------+----+--------+\n",
            "\n"
          ]
        }
      ]
    },
    {
      "cell_type": "code",
      "source": [
        "# 3. Seleccionar los empleados con código 3,5 y 8\n",
        "Employees_df.printSchema()"
      ],
      "metadata": {
        "colab": {
          "base_uri": "https://localhost:8080/"
        },
        "id": "rw3AHA37TMRt",
        "outputId": "112e3bd3-3ff5-4d94-898d-1435605c2c8f"
      },
      "execution_count": null,
      "outputs": [
        {
          "output_type": "stream",
          "name": "stdout",
          "text": [
            "root\n",
            " |-- employee_id: short (nullable = true)\n",
            " |-- last_name: string (nullable = true)\n",
            " |-- first_name: string (nullable = true)\n",
            " |-- title: string (nullable = true)\n",
            " |-- title_of_courtesy: string (nullable = true)\n",
            " |-- birth_date: date (nullable = true)\n",
            " |-- hire_date: date (nullable = true)\n",
            " |-- address: string (nullable = true)\n",
            " |-- city: string (nullable = true)\n",
            " |-- region: string (nullable = true)\n",
            " |-- postal_code: string (nullable = true)\n",
            " |-- country: string (nullable = true)\n",
            " |-- home_phone: string (nullable = true)\n",
            " |-- extension: string (nullable = true)\n",
            " |-- photo: binary (nullable = true)\n",
            " |-- notes: string (nullable = true)\n",
            " |-- reports_to: short (nullable = true)\n",
            " |-- photo_path: string (nullable = true)\n",
            "\n"
          ]
        }
      ]
    },
    {
      "cell_type": "code",
      "source": [
        "Employees_df.filter(Employees_df.employee_id.isin([3,5,8])).show()"
      ],
      "metadata": {
        "colab": {
          "base_uri": "https://localhost:8080/"
        },
        "id": "L0r_92YYWZSw",
        "outputId": "34dd6c81-f5d5-477f-a703-2616a47540ea"
      },
      "execution_count": null,
      "outputs": [
        {
          "output_type": "stream",
          "name": "stdout",
          "text": [
            "+-----------+---------+----------+--------------------+-----------------+----------+----------+--------------------+--------+------+-----------+-------+--------------+---------+-----+--------------------+----------+--------------------+\n",
            "|employee_id|last_name|first_name|               title|title_of_courtesy|birth_date| hire_date|             address|    city|region|postal_code|country|    home_phone|extension|photo|               notes|reports_to|          photo_path|\n",
            "+-----------+---------+----------+--------------------+-----------------+----------+----------+--------------------+--------+------+-----------+-------+--------------+---------+-----+--------------------+----------+--------------------+\n",
            "|          3|Leverling|     Janet|Sales Representative|              Ms.|1963-08-30|1992-04-01|  722 Moss Bay Blvd.|Kirkland|    WA|      98033|    USA|(206) 555-3412|     3355|   []|Janet has a BS de...|         2|http://accweb/emm...|\n",
            "|          5| Buchanan|    Steven|       Sales Manager|              Mr.|1955-03-04|1993-10-17|     14 Garrett Hill|  London|  null|    SW1 8JR|     UK| (71) 555-4848|     3453|   []|Steven Buchanan g...|         2|http://accweb/emm...|\n",
            "|          8| Callahan|     Laura|Inside Sales Coor...|              Ms.|1958-01-09|1994-03-05|4726 - 11th Ave. ...| Seattle|    WA|      98105|    USA|(206) 555-1189|     2344|   []|Laura received a ...|         2|http://accweb/emm...|\n",
            "+-----------+---------+----------+--------------------+-----------------+----------+----------+--------------------+--------+------+-----------+-------+--------------+---------+-----+--------------------+----------+--------------------+\n",
            "\n"
          ]
        }
      ]
    },
    {
      "cell_type": "code",
      "source": [
        "# 5. Seleccionar los productos con precio mayor o igual a 20 y menor o igual a 90\n",
        "products_df.printSchema()"
      ],
      "metadata": {
        "colab": {
          "base_uri": "https://localhost:8080/"
        },
        "id": "8t5L-yL3W350",
        "outputId": "a685240d-7ac3-4789-d15f-61e3a3ecbb7d"
      },
      "execution_count": null,
      "outputs": [
        {
          "output_type": "stream",
          "name": "stdout",
          "text": [
            "root\n",
            " |-- product_id: short (nullable = true)\n",
            " |-- product_name: string (nullable = true)\n",
            " |-- supplier_id: short (nullable = true)\n",
            " |-- category_id: short (nullable = true)\n",
            " |-- quantity_per_unit: string (nullable = true)\n",
            " |-- unit_price: float (nullable = true)\n",
            " |-- units_in_stock: short (nullable = true)\n",
            " |-- units_on_order: short (nullable = true)\n",
            " |-- reorder_level: short (nullable = true)\n",
            " |-- discontinued: integer (nullable = true)\n",
            "\n"
          ]
        }
      ]
    },
    {
      "cell_type": "code",
      "source": [
        "products_df.filter(products_df.unit_price.between(20,90)).show()"
      ],
      "metadata": {
        "colab": {
          "base_uri": "https://localhost:8080/"
        },
        "id": "jkkMUodPXeP0",
        "outputId": "75b1f32d-4630-4db2-c42a-bbc9905bce32"
      },
      "execution_count": null,
      "outputs": [
        {
          "output_type": "stream",
          "name": "stdout",
          "text": [
            "+----------+--------------------+-----------+-----------+------------------+----------+--------------+--------------+-------------+------------+\n",
            "|product_id|        product_name|supplier_id|category_id| quantity_per_unit|unit_price|units_in_stock|units_on_order|reorder_level|discontinued|\n",
            "+----------+--------------------+-----------+-----------+------------------+----------+--------------+--------------+-------------+------------+\n",
            "|         4|Chef Anton's Caju...|          2|          2|    48 - 6 oz jars|      22.0|            53|             0|            0|           0|\n",
            "|         5|Chef Anton's Gumb...|          2|          2|          36 boxes|     21.35|             0|             0|            0|           1|\n",
            "|         6|Grandma's Boysenb...|          3|          2|    12 - 8 oz jars|      25.0|           120|             0|           25|           0|\n",
            "|         7|Uncle Bob's Organ...|          3|          7|   12 - 1 lb pkgs.|      30.0|            15|             0|           10|           0|\n",
            "|         8|Northwoods Cranbe...|          3|          2|   12 - 12 oz jars|      40.0|             6|             0|            0|           0|\n",
            "|        10|               Ikura|          4|          8|  12 - 200 ml jars|      31.0|            31|             0|            0|           0|\n",
            "|        11|      Queso Cabrales|          5|          4|         1 kg pkg.|      21.0|            22|            30|           30|           0|\n",
            "|        12|Queso Manchego La...|          5|          4|  10 - 500 g pkgs.|      38.0|            86|             0|            0|           0|\n",
            "|        14|                Tofu|          6|          7|  40 - 100 g pkgs.|     23.25|            35|             0|            0|           0|\n",
            "|        17|        Alice Mutton|          7|          6|    20 - 1 kg tins|      39.0|             0|             0|            0|           1|\n",
            "|        18|    Carnarvon Tigers|          7|          8|        16 kg pkg.|      62.5|            42|             0|            0|           0|\n",
            "|        20|Sir Rodney's Marm...|          8|          3|     30 gift boxes|      81.0|            40|             0|            0|           0|\n",
            "|        22| Gustaf's Knäckebröd|          9|          5|  24 - 500 g pkgs.|      21.0|           104|             0|           25|           0|\n",
            "|        26| Gumbär Gummibärchen|         11|          3|  100 - 250 g bags|     31.23|            15|             0|            0|           0|\n",
            "|        27|  Schoggi Schokolade|         11|          3|100 - 100 g pieces|      43.9|            49|             0|           30|           0|\n",
            "|        28|   Rössle Sauerkraut|         12|          7|   25 - 825 g cans|      45.6|            26|             0|            0|           1|\n",
            "|        30|Nord-Ost Matjeshe...|         13|          8|10 - 200 g glasses|     25.89|            10|             0|           15|           0|\n",
            "|        32|  Mascarpone Fabioli|         14|          4|  24 - 200 g pkgs.|      32.0|             9|            40|           25|           0|\n",
            "|        37|          Gravad lax|         17|          8|  12 - 500 g pkgs.|      26.0|            11|            50|           25|           0|\n",
            "|        43|         Ipoh Coffee|         20|          1|   16 - 500 g tins|      46.0|            17|            10|           25|           0|\n",
            "+----------+--------------------+-----------+-----------+------------------+----------+--------------+--------------+-------------+------------+\n",
            "only showing top 20 rows\n",
            "\n"
          ]
        }
      ]
    },
    {
      "cell_type": "code",
      "source": [
        "# 6. Mostrar las órdenes de compra entre las fechas 01/01/1997 al 15/07/1997\n",
        "orders_df.printSchema()"
      ],
      "metadata": {
        "colab": {
          "base_uri": "https://localhost:8080/"
        },
        "id": "M54v-xMGfDeI",
        "outputId": "1d81cde9-b1bc-43a0-b56f-3aa397beefe0"
      },
      "execution_count": null,
      "outputs": [
        {
          "output_type": "stream",
          "name": "stdout",
          "text": [
            "root\n",
            " |-- order_id: short (nullable = true)\n",
            " |-- customer_id: string (nullable = true)\n",
            " |-- employee_id: short (nullable = true)\n",
            " |-- order_date: date (nullable = true)\n",
            " |-- required_date: date (nullable = true)\n",
            " |-- shipped_date: date (nullable = true)\n",
            " |-- ship_via: short (nullable = true)\n",
            " |-- freight: float (nullable = true)\n",
            " |-- ship_name: string (nullable = true)\n",
            " |-- ship_address: string (nullable = true)\n",
            " |-- ship_city: string (nullable = true)\n",
            " |-- ship_region: string (nullable = true)\n",
            " |-- ship_postal_code: string (nullable = true)\n",
            " |-- ship_country: string (nullable = true)\n",
            "\n"
          ]
        }
      ]
    },
    {
      "cell_type": "code",
      "source": [
        "orders_df.show(3)"
      ],
      "metadata": {
        "colab": {
          "base_uri": "https://localhost:8080/"
        },
        "id": "9hJ-uHnRkk3S",
        "outputId": "ac8e926a-7263-4052-8c70-8ced1c460614"
      },
      "execution_count": null,
      "outputs": [
        {
          "output_type": "stream",
          "name": "stdout",
          "text": [
            "+--------+-----------+-----------+----------+-------------+------------+--------+-------+--------------------+------------------+--------------+-----------+----------------+------------+\n",
            "|order_id|customer_id|employee_id|order_date|required_date|shipped_date|ship_via|freight|           ship_name|      ship_address|     ship_city|ship_region|ship_postal_code|ship_country|\n",
            "+--------+-----------+-----------+----------+-------------+------------+--------+-------+--------------------+------------------+--------------+-----------+----------------+------------+\n",
            "|   10248|      VINET|          5|1996-07-04|   1996-08-01|  1996-07-16|       3|  32.38|Vins et alcools C...|59 rue de l'Abbaye|         Reims|       null|           51100|      France|\n",
            "|   10249|      TOMSP|          6|1996-07-05|   1996-08-16|  1996-07-10|       1|  11.61|  Toms Spezialitäten|     Luisenstr. 48|       Münster|       null|           44087|     Germany|\n",
            "|   10250|      HANAR|          4|1996-07-08|   1996-08-05|  1996-07-12|       2|  65.83|       Hanari Carnes|   Rua do Paço, 67|Rio de Janeiro|         RJ|       05454-876|      Brazil|\n",
            "+--------+-----------+-----------+----------+-------------+------------+--------+-------+--------------------+------------------+--------------+-----------+----------------+------------+\n",
            "only showing top 3 rows\n",
            "\n"
          ]
        }
      ]
    },
    {
      "cell_type": "code",
      "source": [
        "orders_df.filter(orders_df.order_date.between('1997-01-01', ' 1997-07-15')).show()"
      ],
      "metadata": {
        "colab": {
          "base_uri": "https://localhost:8080/"
        },
        "id": "Pc6AO6SUkx4x",
        "outputId": "0610fb42-aa3a-4628-8f78-2eef0f547fed"
      },
      "execution_count": null,
      "outputs": [
        {
          "output_type": "stream",
          "name": "stdout",
          "text": [
            "+--------+-----------+-----------+----------+-------------+------------+--------+-------+--------------------+--------------------+---------------+-------------+----------------+------------+\n",
            "|order_id|customer_id|employee_id|order_date|required_date|shipped_date|ship_via|freight|           ship_name|        ship_address|      ship_city|  ship_region|ship_postal_code|ship_country|\n",
            "+--------+-----------+-----------+----------+-------------+------------+--------+-------+--------------------+--------------------+---------------+-------------+----------------+------------+\n",
            "|   10400|      EASTC|          1|1997-01-01|   1997-01-29|  1997-01-16|       3|  83.93|  Eastern Connection|      35 King George|         London|         null|         WX3 6FW|          UK|\n",
            "|   10401|      RATTC|          1|1997-01-01|   1997-01-29|  1997-01-10|       1|  12.51|Rattlesnake Canyo...|     2817 Milton Dr.|    Albuquerque|           NM|           87110|         USA|\n",
            "|   10402|      ERNSH|          8|1997-01-02|   1997-02-13|  1997-01-10|       2|  67.88|        Ernst Handel|        Kirchgasse 6|           Graz|         null|            8010|     Austria|\n",
            "|   10403|      ERNSH|          4|1997-01-03|   1997-01-31|  1997-01-09|       3|  73.79|        Ernst Handel|        Kirchgasse 6|           Graz|         null|            8010|     Austria|\n",
            "|   10404|      MAGAA|          2|1997-01-03|   1997-01-31|  1997-01-08|       1| 155.97|Magazzini Aliment...|Via Ludovico il M...|        Bergamo|         null|           24100|       Italy|\n",
            "|   10405|      LINOD|          1|1997-01-06|   1997-02-03|  1997-01-22|       1|  34.82|    LINO-Delicateses|Ave. 5 de Mayo Po...|I. de Margarita|Nueva Esparta|            4980|   Venezuela|\n",
            "|   10406|      QUEEN|          7|1997-01-07|   1997-02-18|  1997-01-13|       1| 108.04|       Queen Cozinha|Alameda dos Canàr...|      Sao Paulo|           SP|       05487-020|      Brazil|\n",
            "|   10407|      OTTIK|          2|1997-01-07|   1997-02-04|  1997-01-30|       2|  91.48|  Ottilies Käseladen|  Mehrheimerstr. 369|           Köln|         null|           50739|     Germany|\n",
            "|   10408|      FOLIG|          8|1997-01-08|   1997-02-05|  1997-01-14|       1|  11.26|   Folies gourmandes|184, chaussée de ...|          Lille|         null|           59000|      France|\n",
            "|   10409|      OCEAN|          3|1997-01-09|   1997-02-06|  1997-01-14|       1|  29.83|Océano Atlántico ...|Ing. Gustavo Monc...|   Buenos Aires|         null|            1010|   Argentina|\n",
            "|   10410|      BOTTM|          3|1997-01-10|   1997-02-07|  1997-01-15|       3|    2.4|Bottom-Dollar Mar...|  23 Tsawassen Blvd.|      Tsawassen|           BC|         T2F 8M4|      Canada|\n",
            "|   10411|      BOTTM|          9|1997-01-10|   1997-02-07|  1997-01-21|       3|  23.65|Bottom-Dollar Mar...|  23 Tsawassen Blvd.|      Tsawassen|           BC|         T2F 8M4|      Canada|\n",
            "|   10412|      WARTH|          8|1997-01-13|   1997-02-10|  1997-01-15|       2|   3.77|      Wartian Herkku|         Torikatu 38|           Oulu|         null|           90110|     Finland|\n",
            "|   10413|      LAMAI|          3|1997-01-14|   1997-02-11|  1997-01-16|       2|  95.66|    La maison d'Asie|1 rue Alsace-Lorr...|       Toulouse|         null|           31000|      France|\n",
            "|   10414|      FAMIA|          2|1997-01-14|   1997-02-11|  1997-01-17|       3|  21.48|  Familia Arquibaldo|        Rua Orós, 92|      Sao Paulo|           SP|       05442-030|      Brazil|\n",
            "|   10415|      HUNGC|          3|1997-01-15|   1997-02-12|  1997-01-24|       1|    0.2|Hungry Coyote Imp...|City Center Plaza...|          Elgin|           OR|           97827|         USA|\n",
            "|   10416|      WARTH|          8|1997-01-16|   1997-02-13|  1997-01-27|       3|  22.72|      Wartian Herkku|         Torikatu 38|           Oulu|         null|           90110|     Finland|\n",
            "|   10417|      SIMOB|          4|1997-01-16|   1997-02-13|  1997-01-28|       3|  70.29|       Simons bistro|        Vinbæltet 34|      Kobenhavn|         null|            1734|     Denmark|\n",
            "|   10418|      QUICK|          4|1997-01-17|   1997-02-14|  1997-01-24|       1|  17.55|          QUICK-Stop|    Taucherstraße 10|      Cunewalde|         null|           01307|     Germany|\n",
            "|   10419|      RICSU|          4|1997-01-20|   1997-02-17|  1997-01-30|       2| 137.35|  Richter Supermarkt|         Starenweg 5|         Genève|         null|            1204| Switzerland|\n",
            "+--------+-----------+-----------+----------+-------------+------------+--------+-------+--------------------+--------------------+---------------+-------------+----------------+------------+\n",
            "only showing top 20 rows\n",
            "\n"
          ]
        }
      ]
    },
    {
      "cell_type": "code",
      "source": [
        "#7. Mostrar las órdenes de compra hechas en el año 1997, que pertenecen a los empleados con códigos 1 ,3 ,4 ,8\n",
        "# importaremos la funciones de sql a pyspark\n",
        "\n",
        "from pyspark.sql import functions as F \n",
        "\n",
        "orders_df.show(3)"
      ],
      "metadata": {
        "colab": {
          "base_uri": "https://localhost:8080/"
        },
        "id": "cxOKcLoVmoFf",
        "outputId": "a659b326-f82b-485a-dcd3-3ebed235e428"
      },
      "execution_count": null,
      "outputs": [
        {
          "output_type": "stream",
          "name": "stdout",
          "text": [
            "+--------+-----------+-----------+----------+-------------+------------+--------+-------+--------------------+------------------+--------------+-----------+----------------+------------+\n",
            "|order_id|customer_id|employee_id|order_date|required_date|shipped_date|ship_via|freight|           ship_name|      ship_address|     ship_city|ship_region|ship_postal_code|ship_country|\n",
            "+--------+-----------+-----------+----------+-------------+------------+--------+-------+--------------------+------------------+--------------+-----------+----------------+------------+\n",
            "|   10248|      VINET|          5|1996-07-04|   1996-08-01|  1996-07-16|       3|  32.38|Vins et alcools C...|59 rue de l'Abbaye|         Reims|       null|           51100|      France|\n",
            "|   10249|      TOMSP|          6|1996-07-05|   1996-08-16|  1996-07-10|       1|  11.61|  Toms Spezialitäten|     Luisenstr. 48|       Münster|       null|           44087|     Germany|\n",
            "|   10250|      HANAR|          4|1996-07-08|   1996-08-05|  1996-07-12|       2|  65.83|       Hanari Carnes|   Rua do Paço, 67|Rio de Janeiro|         RJ|       05454-876|      Brazil|\n",
            "+--------+-----------+-----------+----------+-------------+------------+--------+-------+--------------------+------------------+--------------+-----------+----------------+------------+\n",
            "only showing top 3 rows\n",
            "\n"
          ]
        }
      ]
    },
    {
      "cell_type": "code",
      "source": [
        "orders_df.filter((F.year(orders_df.order_date)=='1997') & (orders_df.employee_id.isin(1,3,4,8))).show(6)"
      ],
      "metadata": {
        "id": "b7xK_bO74EOm",
        "colab": {
          "base_uri": "https://localhost:8080/"
        },
        "outputId": "c9515b78-4d3c-443d-cba8-b2d4ee891c5d"
      },
      "execution_count": null,
      "outputs": [
        {
          "output_type": "stream",
          "name": "stdout",
          "text": [
            "+--------+-----------+-----------+----------+-------------+------------+--------+-------+--------------------+--------------------+---------------+-------------+----------------+------------+\n",
            "|order_id|customer_id|employee_id|order_date|required_date|shipped_date|ship_via|freight|           ship_name|        ship_address|      ship_city|  ship_region|ship_postal_code|ship_country|\n",
            "+--------+-----------+-----------+----------+-------------+------------+--------+-------+--------------------+--------------------+---------------+-------------+----------------+------------+\n",
            "|   10400|      EASTC|          1|1997-01-01|   1997-01-29|  1997-01-16|       3|  83.93|  Eastern Connection|      35 King George|         London|         null|         WX3 6FW|          UK|\n",
            "|   10401|      RATTC|          1|1997-01-01|   1997-01-29|  1997-01-10|       1|  12.51|Rattlesnake Canyo...|     2817 Milton Dr.|    Albuquerque|           NM|           87110|         USA|\n",
            "|   10402|      ERNSH|          8|1997-01-02|   1997-02-13|  1997-01-10|       2|  67.88|        Ernst Handel|        Kirchgasse 6|           Graz|         null|            8010|     Austria|\n",
            "|   10403|      ERNSH|          4|1997-01-03|   1997-01-31|  1997-01-09|       3|  73.79|        Ernst Handel|        Kirchgasse 6|           Graz|         null|            8010|     Austria|\n",
            "|   10405|      LINOD|          1|1997-01-06|   1997-02-03|  1997-01-22|       1|  34.82|    LINO-Delicateses|Ave. 5 de Mayo Po...|I. de Margarita|Nueva Esparta|            4980|   Venezuela|\n",
            "|   10408|      FOLIG|          8|1997-01-08|   1997-02-05|  1997-01-14|       1|  11.26|   Folies gourmandes|184, chaussée de ...|          Lille|         null|           59000|      France|\n",
            "+--------+-----------+-----------+----------+-------------+------------+--------+-------+--------------------+--------------------+---------------+-------------+----------------+------------+\n",
            "only showing top 6 rows\n",
            "\n"
          ]
        }
      ]
    },
    {
      "cell_type": "code",
      "source": [
        "# 8. Mostrar las ordenes hechas en el año 1996\n",
        "\n",
        "orders_df.filter(F.year(orders_df.order_date)== '1996').show(4)"
      ],
      "metadata": {
        "colab": {
          "base_uri": "https://localhost:8080/"
        },
        "id": "5fMqJUbDX1E0",
        "outputId": "f2338c98-745f-45d4-e4ec-42fcd9c9a218"
      },
      "execution_count": null,
      "outputs": [
        {
          "output_type": "stream",
          "name": "stdout",
          "text": [
            "+--------+-----------+-----------+----------+-------------+------------+--------+-------+--------------------+------------------+--------------+-----------+----------------+------------+\n",
            "|order_id|customer_id|employee_id|order_date|required_date|shipped_date|ship_via|freight|           ship_name|      ship_address|     ship_city|ship_region|ship_postal_code|ship_country|\n",
            "+--------+-----------+-----------+----------+-------------+------------+--------+-------+--------------------+------------------+--------------+-----------+----------------+------------+\n",
            "|   10248|      VINET|          5|1996-07-04|   1996-08-01|  1996-07-16|       3|  32.38|Vins et alcools C...|59 rue de l'Abbaye|         Reims|       null|           51100|      France|\n",
            "|   10249|      TOMSP|          6|1996-07-05|   1996-08-16|  1996-07-10|       1|  11.61|  Toms Spezialitäten|     Luisenstr. 48|       Münster|       null|           44087|     Germany|\n",
            "|   10250|      HANAR|          4|1996-07-08|   1996-08-05|  1996-07-12|       2|  65.83|       Hanari Carnes|   Rua do Paço, 67|Rio de Janeiro|         RJ|       05454-876|      Brazil|\n",
            "|   10251|      VICTE|          3|1996-07-08|   1996-08-05|  1996-07-15|       1|  41.34|Victuailles en stock|2, rue du Commerce|          Lyon|       null|           69004|      France|\n",
            "+--------+-----------+-----------+----------+-------------+------------+--------+-------+--------------------+------------------+--------------+-----------+----------------+------------+\n",
            "only showing top 4 rows\n",
            "\n"
          ]
        }
      ]
    },
    {
      "cell_type": "code",
      "source": [
        "# 9. Mostrar las ordenes hechas en el año 1997 ,del mes de abril\n",
        "\n",
        "orders_df.filter(orders_df.order_date.between('1997-04-01', ' 1997-04-30')).show(5)"
      ],
      "metadata": {
        "colab": {
          "base_uri": "https://localhost:8080/"
        },
        "id": "WU4EtrlVZCbg",
        "outputId": "5db064bb-0b3b-4b0a-dc4c-b3d44b8b66b0"
      },
      "execution_count": null,
      "outputs": [
        {
          "output_type": "stream",
          "name": "stdout",
          "text": [
            "+--------+-----------+-----------+----------+-------------+------------+--------+-------+--------------------+--------------------+---------+-----------+----------------+------------+\n",
            "|order_id|customer_id|employee_id|order_date|required_date|shipped_date|ship_via|freight|           ship_name|        ship_address|ship_city|ship_region|ship_postal_code|ship_country|\n",
            "+--------+-----------+-----------+----------+-------------+------------+--------+-------+--------------------+--------------------+---------+-----------+----------------+------------+\n",
            "|   10492|      BOTTM|          3|1997-04-01|   1997-04-29|  1997-04-11|       1|  62.89|Bottom-Dollar Mar...|  23 Tsawassen Blvd.|Tsawassen|         BC|         T2F 8M4|      Canada|\n",
            "|   10493|      LAMAI|          4|1997-04-02|   1997-04-30|  1997-04-10|       3|  10.64|    La maison d'Asie|1 rue Alsace-Lorr...| Toulouse|       null|           31000|      France|\n",
            "|   10494|      COMMI|          4|1997-04-02|   1997-04-30|  1997-04-09|       2|  65.99|    Comércio Mineiro|Av. dos Lusíadas, 23|Sao Paulo|         SP|       05432-043|      Brazil|\n",
            "|   10495|      LAUGB|          3|1997-04-03|   1997-05-01|  1997-04-11|       3|   4.65|Laughing Bacchus ...|        2319 Elm St.|Vancouver|         BC|         V3F 2K1|      Canada|\n",
            "|   10496|      TRADH|          7|1997-04-04|   1997-05-02|  1997-04-07|       2|  46.77|Tradiçao Hipermer...|Av. Inês de Castr...|Sao Paulo|         SP|       05634-030|      Brazil|\n",
            "+--------+-----------+-----------+----------+-------------+------------+--------+-------+--------------------+--------------------+---------+-----------+----------------+------------+\n",
            "only showing top 5 rows\n",
            "\n"
          ]
        }
      ]
    },
    {
      "cell_type": "code",
      "source": [
        "# 10. Mostrar las ordenes hechas el primero de todos los meses, del año 1998\n",
        "orders_df.filter((F.year(orders_df.order_date)=='1998') & (F.dayofmonth(orders_df.order_date)=='1')).show()"
      ],
      "metadata": {
        "colab": {
          "base_uri": "https://localhost:8080/"
        },
        "id": "78TDLx7HcFNI",
        "outputId": "c534dc82-859d-4a82-e046-c938d47207ff"
      },
      "execution_count": null,
      "outputs": [
        {
          "output_type": "stream",
          "name": "stdout",
          "text": [
            "+--------+-----------+-----------+----------+-------------+------------+--------+-------+--------------------+--------------------+------------+-----------+----------------+------------+\n",
            "|order_id|customer_id|employee_id|order_date|required_date|shipped_date|ship_via|freight|           ship_name|        ship_address|   ship_city|ship_region|ship_postal_code|ship_country|\n",
            "+--------+-----------+-----------+----------+-------------+------------+--------+-------+--------------------+--------------------+------------+-----------+----------------+------------+\n",
            "|   10808|      OLDWO|          2|1998-01-01|   1998-01-29|  1998-01-09|       3|  45.53|Old World Delicat...|     2743 Bering St.|   Anchorage|         AK|           99508|         USA|\n",
            "|   10809|      WELLI|          7|1998-01-01|   1998-01-29|  1998-01-07|       1|   4.87|Wellington Import...|  Rua do Mercado, 12|     Resende|         SP|       08737-363|      Brazil|\n",
            "|   10810|      LAUGB|          2|1998-01-01|   1998-01-29|  1998-01-07|       3|   4.33|Laughing Bacchus ...|        2319 Elm St.|   Vancouver|         BC|         V3F 2K1|      Canada|\n",
            "|   10990|      ERNSH|          2|1998-04-01|   1998-05-13|  1998-04-07|       3| 117.61|        Ernst Handel|        Kirchgasse 6|        Graz|       null|            8010|     Austria|\n",
            "|   10991|      QUICK|          1|1998-04-01|   1998-04-29|  1998-04-07|       1|  38.51|          QUICK-Stop|    Taucherstraße 10|   Cunewalde|       null|           01307|     Germany|\n",
            "|   10992|      THEBI|          1|1998-04-01|   1998-04-29|  1998-04-03|       3|   4.27|      The Big Cheese|89 Jefferson Way ...|    Portland|         OR|           97201|         USA|\n",
            "|   10993|      FOLKO|          7|1998-04-01|   1998-04-29|  1998-04-10|       3|   8.81|      Folk och fä HB|        Åkergatan 24|      Bräcke|       null|        S-844 67|      Sweden|\n",
            "|   11064|      SAVEA|          1|1998-05-01|   1998-05-29|  1998-05-04|       1|  30.09|  Save-a-lot Markets|     187 Suffolk Ln.|       Boise|         ID|           83720|         USA|\n",
            "|   11065|      LILAS|          8|1998-05-01|   1998-05-29|        null|       1|  12.91|   LILA-Supermercado|Carrera 52 con Av...|Barquisimeto|       Lara|            3508|   Venezuela|\n",
            "|   11066|      WHITC|          7|1998-05-01|   1998-05-29|  1998-05-04|       2|  44.72|White Clover Markets| 1029 - 12th Ave. S.|     Seattle|         WA|           98124|         USA|\n",
            "+--------+-----------+-----------+----------+-------------+------------+--------+-------+--------------------+--------------------+------------+-----------+----------------+------------+\n",
            "\n"
          ]
        }
      ]
    },
    {
      "cell_type": "code",
      "source": [
        "# 11. Mostrar todos los clientes que no tienen fax\n",
        "customers_df.show(2)"
      ],
      "metadata": {
        "colab": {
          "base_uri": "https://localhost:8080/"
        },
        "id": "JggYL0Y7eC7X",
        "outputId": "79766c61-141e-48b5-a4f7-4c6d814ff9ef"
      },
      "execution_count": null,
      "outputs": [
        {
          "output_type": "stream",
          "name": "stdout",
          "text": [
            "+-----------+--------------------+------------+--------------------+--------------------+-----------+------+-----------+-------+------------+------------+\n",
            "|customer_id|        company_name|contact_name|       contact_title|             address|       city|region|postal_code|country|       phone|         fax|\n",
            "+-----------+--------------------+------------+--------------------+--------------------+-----------+------+-----------+-------+------------+------------+\n",
            "|      ALFKI| Alfreds Futterkiste|Maria Anders|Sales Representative|       Obere Str. 57|     Berlin|  null|      12209|Germany| 030-0074321| 030-0076545|\n",
            "|      ANATR|Ana Trujillo Empa...|Ana Trujillo|               Owner|Avda. de la Const...|México D.F.|  null|      05021| Mexico|(5) 555-4729|(5) 555-3745|\n",
            "+-----------+--------------------+------------+--------------------+--------------------+-----------+------+-----------+-------+------------+------------+\n",
            "only showing top 2 rows\n",
            "\n"
          ]
        }
      ]
    },
    {
      "cell_type": "code",
      "source": [
        "customers_df.filter(customers_df.fax.isNull()).show(5)"
      ],
      "metadata": {
        "colab": {
          "base_uri": "https://localhost:8080/"
        },
        "id": "8CwfiAkFipWF",
        "outputId": "18eacf61-1451-4d78-8d41-e35bebdc2ee3"
      },
      "execution_count": null,
      "outputs": [
        {
          "output_type": "stream",
          "name": "stdout",
          "text": [
            "+-----------+--------------------+-----------------+--------------------+--------------------+-----------+------+-----------+-----------+--------------+----+\n",
            "|customer_id|        company_name|     contact_name|       contact_title|             address|       city|region|postal_code|    country|         phone| fax|\n",
            "+-----------+--------------------+-----------------+--------------------+--------------------+-----------+------+-----------+-----------+--------------+----+\n",
            "|      ANTON|Antonio Moreno Ta...|   Antonio Moreno|               Owner|     Mataderos  2312|México D.F.|  null|      05023|     Mexico|  (5) 555-3932|null|\n",
            "|      BSBEV|       B's Beverages|Victoria Ashworth|Sales Representative|   Fauntleroy Circus|     London|  null|    EC2 5NT|         UK|(171) 555-1212|null|\n",
            "|      CHOPS|   Chop-suey Chinese|        Yang Wang|               Owner|        Hauptstr. 29|       Bern|  null|       3012|Switzerland|   0452-076545|null|\n",
            "|      COMMI|    Comércio Mineiro|     Pedro Afonso|     Sales Associate|Av. dos Lusíadas, 23|  Sao Paulo|    SP|  05432-043|     Brazil| (11) 555-7647|null|\n",
            "|      FAMIA|  Familia Arquibaldo|        Aria Cruz| Marketing Assistant|        Rua Orós, 92|  Sao Paulo|    SP|  05442-030|     Brazil| (11) 555-9857|null|\n",
            "+-----------+--------------------+-----------------+--------------------+--------------------+-----------+------+-----------+-----------+--------------+----+\n",
            "only showing top 5 rows\n",
            "\n"
          ]
        }
      ]
    },
    {
      "cell_type": "code",
      "source": [
        "# 12. Mostrar todos los clientes que tienen fax\n",
        "\n",
        "customers_df.filter(customers_df.fax.isNotNull()).show(5)"
      ],
      "metadata": {
        "colab": {
          "base_uri": "https://localhost:8080/"
        },
        "id": "8LzAvG6SjR7W",
        "outputId": "beff132d-b3e2-42c3-8386-68f030345c86"
      },
      "execution_count": null,
      "outputs": [
        {
          "output_type": "stream",
          "name": "stdout",
          "text": [
            "+-----------+--------------------+------------------+--------------------+--------------------+-----------+------+-----------+-------+--------------+--------------+\n",
            "|customer_id|        company_name|      contact_name|       contact_title|             address|       city|region|postal_code|country|         phone|           fax|\n",
            "+-----------+--------------------+------------------+--------------------+--------------------+-----------+------+-----------+-------+--------------+--------------+\n",
            "|      ALFKI| Alfreds Futterkiste|      Maria Anders|Sales Representative|       Obere Str. 57|     Berlin|  null|      12209|Germany|   030-0074321|   030-0076545|\n",
            "|      ANATR|Ana Trujillo Empa...|      Ana Trujillo|               Owner|Avda. de la Const...|México D.F.|  null|      05021| Mexico|  (5) 555-4729|  (5) 555-3745|\n",
            "|      AROUT|     Around the Horn|      Thomas Hardy|Sales Representative|     120 Hanover Sq.|     London|  null|    WA1 1DP|     UK|(171) 555-7788|(171) 555-6750|\n",
            "|      BERGS|  Berglunds snabbköp|Christina Berglund| Order Administrator|     Berguvsvägen  8|      Luleå|  null|   S-958 22| Sweden| 0921-12 34 65| 0921-12 34 67|\n",
            "|      BLAUS|Blauer See Delika...|        Hanna Moos|Sales Representative|      Forsterstr. 57|   Mannheim|  null|      68306|Germany|    0621-08460|    0621-08924|\n",
            "+-----------+--------------------+------------------+--------------------+--------------------+-----------+------+-----------+-------+--------------+--------------+\n",
            "only showing top 5 rows\n",
            "\n"
          ]
        }
      ]
    },
    {
      "cell_type": "code",
      "source": [
        "# 13. Mostrar el nombre del producto, el precio, el stock y el nombre de la categoría a la que pertenece.\n",
        "\n",
        "# tabla categories (categoria)\n",
        "categories_df = spark.read \\\n",
        "\t.format(\"jdbc\") \\\n",
        "    .option(\"url\", url)\\\n",
        "    .option(\"dbtable\", \"categories\")\\\n",
        "    .option(\"user\", usuario)\\\n",
        "    .option(\"password\", contraseña)\\\n",
        "    .option(\"driver\", \"org.postgresql.Driver\")\\\n",
        "    .load()\n",
        "\n",
        "\n",
        "categories_df.show(truncate=False)"
      ],
      "metadata": {
        "colab": {
          "base_uri": "https://localhost:8080/"
        },
        "id": "XWG27HGEkZTJ",
        "outputId": "3705a548-20e9-4bec-f145-e4d977533fca"
      },
      "execution_count": null,
      "outputs": [
        {
          "output_type": "stream",
          "name": "stdout",
          "text": [
            "+-----------+--------------+----------------------------------------------------------+-------+\n",
            "|category_id|category_name |description                                               |picture|\n",
            "+-----------+--------------+----------------------------------------------------------+-------+\n",
            "|1          |Beverages     |Soft drinks, coffees, teas, beers, and ales               |[]     |\n",
            "|2          |Condiments    |Sweet and savory sauces, relishes, spreads, and seasonings|[]     |\n",
            "|3          |Confections   |Desserts, candies, and sweet breads                       |[]     |\n",
            "|4          |Dairy Products|Cheeses                                                   |[]     |\n",
            "|5          |Grains/Cereals|Breads, crackers, pasta, and cereal                       |[]     |\n",
            "|6          |Meat/Poultry  |Prepared meats                                            |[]     |\n",
            "|7          |Produce       |Dried fruit and bean curd                                 |[]     |\n",
            "|8          |Seafood       |Seaweed and fish                                          |[]     |\n",
            "+-----------+--------------+----------------------------------------------------------+-------+\n",
            "\n"
          ]
        }
      ]
    },
    {
      "cell_type": "code",
      "source": [
        "products_df.show(3)"
      ],
      "metadata": {
        "colab": {
          "base_uri": "https://localhost:8080/"
        },
        "id": "0IeX3jnIn52d",
        "outputId": "433178a0-2a8d-4e8f-d682-c64591b9d0b0"
      },
      "execution_count": null,
      "outputs": [
        {
          "output_type": "stream",
          "name": "stdout",
          "text": [
            "+----------+-------------+-----------+-----------+-------------------+----------+--------------+--------------+-------------+------------+\n",
            "|product_id| product_name|supplier_id|category_id|  quantity_per_unit|unit_price|units_in_stock|units_on_order|reorder_level|discontinued|\n",
            "+----------+-------------+-----------+-----------+-------------------+----------+--------------+--------------+-------------+------------+\n",
            "|         1|         Chai|          8|          1| 10 boxes x 30 bags|      18.0|            39|             0|           10|           1|\n",
            "|         2|        Chang|          1|          1| 24 - 12 oz bottles|      19.0|            17|            40|           25|           1|\n",
            "|         3|Aniseed Syrup|          1|          2|12 - 550 ml bottles|      10.0|            13|            70|           25|           0|\n",
            "+----------+-------------+-----------+-----------+-------------------+----------+--------------+--------------+-------------+------------+\n",
            "only showing top 3 rows\n",
            "\n"
          ]
        }
      ]
    },
    {
      "cell_type": "code",
      "source": [
        "df= products_df.join(categories_df, on=['category_id'], how='inner').select(products_df.product_name, \n",
        "                                                                        products_df.unit_price,\n",
        "                                                                         products_df.units_in_stock,\n",
        "                                                                         categories_df.category_name)\n",
        "\n",
        "df.show()"
      ],
      "metadata": {
        "colab": {
          "base_uri": "https://localhost:8080/"
        },
        "id": "zH6HUrYN9FWk",
        "outputId": "538b007b-ac9d-46e6-9dc6-199acb5f048a"
      },
      "execution_count": null,
      "outputs": [
        {
          "output_type": "stream",
          "name": "stdout",
          "text": [
            "+--------------------+----------+--------------+-------------+\n",
            "|        product_name|unit_price|units_in_stock|category_name|\n",
            "+--------------------+----------+--------------+-------------+\n",
            "|                Chai|      18.0|            39|    Beverages|\n",
            "|               Chang|      19.0|            17|    Beverages|\n",
            "|  Guaraná Fantástica|       4.5|            20|    Beverages|\n",
            "|       Sasquatch Ale|      14.0|           111|    Beverages|\n",
            "|      Steeleye Stout|      18.0|            20|    Beverages|\n",
            "|       Côte de Blaye|     263.5|            17|    Beverages|\n",
            "|    Chartreuse verte|      18.0|            69|    Beverages|\n",
            "|         Ipoh Coffee|      46.0|            17|    Beverages|\n",
            "|Laughing Lumberja...|      14.0|            52|    Beverages|\n",
            "|       Outback Lager|      15.0|            15|    Beverages|\n",
            "|Rhönbräu Klosterbier|      7.75|           125|    Beverages|\n",
            "|        Lakkalikööri|      18.0|            57|    Beverages|\n",
            "|       Aniseed Syrup|      10.0|            13|   Condiments|\n",
            "|Chef Anton's Caju...|      22.0|            53|   Condiments|\n",
            "|Chef Anton's Gumb...|     21.35|             0|   Condiments|\n",
            "|Grandma's Boysenb...|      25.0|           120|   Condiments|\n",
            "|Northwoods Cranbe...|      40.0|             6|   Condiments|\n",
            "|        Genen Shouyu|      13.0|            39|   Condiments|\n",
            "|        Gula Malacca|     19.45|            27|   Condiments|\n",
            "|      Sirop d'érable|      28.5|           113|   Condiments|\n",
            "+--------------------+----------+--------------+-------------+\n",
            "only showing top 20 rows\n",
            "\n"
          ]
        }
      ]
    },
    {
      "cell_type": "code",
      "source": [
        "# 14. Mostrar el nombre del producto, el precio producto, el código del proveedor y el nombre de la compañía proveedora.\n",
        "\n",
        "suppliers_df.show(3)"
      ],
      "metadata": {
        "colab": {
          "base_uri": "https://localhost:8080/"
        },
        "id": "Rfu1hehM9axG",
        "outputId": "b864b500-4648-43df-b485-20449fe6da97"
      },
      "execution_count": null,
      "outputs": [
        {
          "output_type": "stream",
          "name": "stdout",
          "text": [
            "+-----------+--------------------+----------------+--------------------+--------------+-----------+------+-----------+-------+--------------+--------------+-----------+\n",
            "|supplier_id|        company_name|    contact_name|       contact_title|       address|       city|region|postal_code|country|         phone|           fax|   homepage|\n",
            "+-----------+--------------------+----------------+--------------------+--------------+-----------+------+-----------+-------+--------------+--------------+-----------+\n",
            "|          1|      Exotic Liquids|Charlotte Cooper|  Purchasing Manager|49 Gilbert St.|     London|  null|    EC1 4SD|     UK|(171) 555-2222|          null|       null|\n",
            "|          2|New Orleans Cajun...|   Shelley Burke| Order Administrator|P.O. Box 78934|New Orleans|    LA|      70117|    USA|(100) 555-4822|          null|#CAJUN.HTM#|\n",
            "|          3|Grandma Kelly's H...|   Regina Murphy|Sales Representative|707 Oxford Rd.|  Ann Arbor|    MI|      48104|    USA|(313) 555-5735|(313) 555-3349|       null|\n",
            "+-----------+--------------------+----------------+--------------------+--------------+-----------+------+-----------+-------+--------------+--------------+-----------+\n",
            "only showing top 3 rows\n",
            "\n"
          ]
        }
      ]
    },
    {
      "cell_type": "code",
      "source": [
        "products_df.join(suppliers_df, on=['supplier_id'], how='inner').select(products_df.product_name,\n",
        "                                                                       products_df.unit_price,\n",
        "                                                                       suppliers_df.supplier_id,\n",
        "                                                                       suppliers_df.company_name).show()"
      ],
      "metadata": {
        "colab": {
          "base_uri": "https://localhost:8080/"
        },
        "id": "1dD0-vvAKyy1",
        "outputId": "323ce884-98d4-48ec-abc3-ffff53ac8939"
      },
      "execution_count": null,
      "outputs": [
        {
          "output_type": "stream",
          "name": "stdout",
          "text": [
            "+--------------------+----------+-----------+--------------------+\n",
            "|        product_name|unit_price|supplier_id|        company_name|\n",
            "+--------------------+----------+-----------+--------------------+\n",
            "|               Chang|      19.0|          1|      Exotic Liquids|\n",
            "|       Aniseed Syrup|      10.0|          1|      Exotic Liquids|\n",
            "|Chef Anton's Caju...|      22.0|          2|New Orleans Cajun...|\n",
            "|Chef Anton's Gumb...|     21.35|          2|New Orleans Cajun...|\n",
            "|Louisiana Fiery H...|     21.05|          2|New Orleans Cajun...|\n",
            "|Louisiana Hot Spi...|      17.0|          2|New Orleans Cajun...|\n",
            "|Grandma's Boysenb...|      25.0|          3|Grandma Kelly's H...|\n",
            "|Uncle Bob's Organ...|      30.0|          3|Grandma Kelly's H...|\n",
            "|Northwoods Cranbe...|      40.0|          3|Grandma Kelly's H...|\n",
            "|     Mishi Kobe Niku|      97.0|          4|       Tokyo Traders|\n",
            "|               Ikura|      31.0|          4|       Tokyo Traders|\n",
            "|       Longlife Tofu|      10.0|          4|       Tokyo Traders|\n",
            "|      Queso Cabrales|      21.0|          5|Cooperativa de Qu...|\n",
            "|Queso Manchego La...|      38.0|          5|Cooperativa de Qu...|\n",
            "|               Konbu|       6.0|          6|            Mayumi's|\n",
            "|                Tofu|     23.25|          6|            Mayumi's|\n",
            "|        Genen Shouyu|      13.0|          6|            Mayumi's|\n",
            "|             Pavlova|     17.45|          7|       Pavlova, Ltd.|\n",
            "|        Alice Mutton|      39.0|          7|       Pavlova, Ltd.|\n",
            "|    Carnarvon Tigers|      62.5|          7|       Pavlova, Ltd.|\n",
            "+--------------------+----------+-----------+--------------------+\n",
            "only showing top 20 rows\n",
            "\n"
          ]
        }
      ]
    },
    {
      "cell_type": "code",
      "source": [
        "# 15. Mostrar el número de orden, el código del producto, el precio, la cantidad y el total pagado por producto.\n",
        "\n",
        "# tabla order details (detalles del pedido)\n",
        "order_details = spark.read \\\n",
        "\t.format(\"jdbc\") \\\n",
        "    .option(\"url\", url)\\\n",
        "    .option(\"dbtable\", \"order_details\")\\\n",
        "    .option(\"user\", usuario)\\\n",
        "    .option(\"password\", contraseña)\\\n",
        "    .option(\"driver\", \"org.postgresql.Driver\")\\\n",
        "    .load()"
      ],
      "metadata": {
        "id": "UWiYihOfNQr0"
      },
      "execution_count": null,
      "outputs": []
    },
    {
      "cell_type": "code",
      "source": [
        "order_details.show(3)"
      ],
      "metadata": {
        "colab": {
          "base_uri": "https://localhost:8080/"
        },
        "id": "gTdOueThQJA-",
        "outputId": "e2a0829a-dc34-466d-a1cd-ca7cec86f214"
      },
      "execution_count": null,
      "outputs": [
        {
          "output_type": "stream",
          "name": "stdout",
          "text": [
            "+--------+----------+----------+--------+--------+\n",
            "|order_id|product_id|unit_price|quantity|discount|\n",
            "+--------+----------+----------+--------+--------+\n",
            "|   10248|        11|      14.0|      12|     0.0|\n",
            "|   10248|        42|       9.8|      10|     0.0|\n",
            "|   10248|        72|      34.8|       5|     0.0|\n",
            "+--------+----------+----------+--------+--------+\n",
            "only showing top 3 rows\n",
            "\n"
          ]
        }
      ]
    },
    {
      "cell_type": "code",
      "source": [
        "order_details.select(order_details.order_id,\n",
        "                     order_details.product_id, \n",
        "                     order_details.unit_price, \n",
        "                     order_details.quantity,\n",
        "                     (order_details.unit_price*order_details.quantity).alias('TOTAL PAGADO')).show(3)"
      ],
      "metadata": {
        "colab": {
          "base_uri": "https://localhost:8080/"
        },
        "id": "ZhtuUsugQVi3",
        "outputId": "7e4f4472-867a-4a27-a159-8624b8155725"
      },
      "execution_count": null,
      "outputs": [
        {
          "output_type": "stream",
          "name": "stdout",
          "text": [
            "+--------+----------+----------+--------+------------+\n",
            "|order_id|product_id|unit_price|quantity|TOTAL PAGADO|\n",
            "+--------+----------+----------+--------+------------+\n",
            "|   10248|        11|      14.0|      12|       168.0|\n",
            "|   10248|        42|       9.8|      10|        98.0|\n",
            "|   10248|        72|      34.8|       5|       174.0|\n",
            "+--------+----------+----------+--------+------------+\n",
            "only showing top 3 rows\n",
            "\n"
          ]
        }
      ]
    },
    {
      "cell_type": "code",
      "source": [
        "# 16. Mostrar el número de la orden, fecha, código del producto, precio, código del empleado y su nombre completo.\n",
        "\n",
        "order_details.show(3)\n",
        "Employees_df.show(3)\n",
        "orders_df.show(3)"
      ],
      "metadata": {
        "colab": {
          "base_uri": "https://localhost:8080/"
        },
        "id": "938baeEGZCkq",
        "outputId": "7f01ff9a-7df2-43ae-d916-cb2d298dd907"
      },
      "execution_count": null,
      "outputs": [
        {
          "output_type": "stream",
          "name": "stdout",
          "text": [
            "+--------+----------+----------+--------+--------+\n",
            "|order_id|product_id|unit_price|quantity|discount|\n",
            "+--------+----------+----------+--------+--------+\n",
            "|   10248|        11|      14.0|      12|     0.0|\n",
            "|   10248|        42|       9.8|      10|     0.0|\n",
            "|   10248|        72|      34.8|       5|     0.0|\n",
            "+--------+----------+----------+--------+--------+\n",
            "only showing top 3 rows\n",
            "\n",
            "+-----------+---------+----------+--------------------+-----------------+----------+----------+--------------------+--------+------+-----------+-------+--------------+---------+-----+--------------------+----------+--------------------+\n",
            "|employee_id|last_name|first_name|               title|title_of_courtesy|birth_date| hire_date|             address|    city|region|postal_code|country|    home_phone|extension|photo|               notes|reports_to|          photo_path|\n",
            "+-----------+---------+----------+--------------------+-----------------+----------+----------+--------------------+--------+------+-----------+-------+--------------+---------+-----+--------------------+----------+--------------------+\n",
            "|          1|  Davolio|     Nancy|Sales Representative|              Ms.|1948-12-08|1992-05-01|507 - 20th Ave. E...| Seattle|    WA|      98122|    USA|(206) 555-9857|     5467|   []|Education include...|         2|http://accweb/emm...|\n",
            "|          2|   Fuller|    Andrew|Vice President, S...|              Dr.|1952-02-19|1992-08-14|  908 W. Capital Way|  Tacoma|    WA|      98401|    USA|(206) 555-9482|     3457|   []|Andrew received h...|      null|http://accweb/emm...|\n",
            "|          3|Leverling|     Janet|Sales Representative|              Ms.|1963-08-30|1992-04-01|  722 Moss Bay Blvd.|Kirkland|    WA|      98033|    USA|(206) 555-3412|     3355|   []|Janet has a BS de...|         2|http://accweb/emm...|\n",
            "+-----------+---------+----------+--------------------+-----------------+----------+----------+--------------------+--------+------+-----------+-------+--------------+---------+-----+--------------------+----------+--------------------+\n",
            "only showing top 3 rows\n",
            "\n",
            "+--------+-----------+-----------+----------+-------------+------------+--------+-------+--------------------+------------------+--------------+-----------+----------------+------------+\n",
            "|order_id|customer_id|employee_id|order_date|required_date|shipped_date|ship_via|freight|           ship_name|      ship_address|     ship_city|ship_region|ship_postal_code|ship_country|\n",
            "+--------+-----------+-----------+----------+-------------+------------+--------+-------+--------------------+------------------+--------------+-----------+----------------+------------+\n",
            "|   10248|      VINET|          5|1996-07-04|   1996-08-01|  1996-07-16|       3|  32.38|Vins et alcools C...|59 rue de l'Abbaye|         Reims|       null|           51100|      France|\n",
            "|   10249|      TOMSP|          6|1996-07-05|   1996-08-16|  1996-07-10|       1|  11.61|  Toms Spezialitäten|     Luisenstr. 48|       Münster|       null|           44087|     Germany|\n",
            "|   10250|      HANAR|          4|1996-07-08|   1996-08-05|  1996-07-12|       2|  65.83|       Hanari Carnes|   Rua do Paço, 67|Rio de Janeiro|         RJ|       05454-876|      Brazil|\n",
            "+--------+-----------+-----------+----------+-------------+------------+--------+-------+--------------------+------------------+--------------+-----------+----------------+------------+\n",
            "only showing top 3 rows\n",
            "\n"
          ]
        }
      ]
    },
    {
      "cell_type": "code",
      "source": [
        "# 17. Mostrar los 10 productos con menor stock\n",
        "\n",
        "products_df.show(2)"
      ],
      "metadata": {
        "colab": {
          "base_uri": "https://localhost:8080/"
        },
        "id": "OTjQkswjwdol",
        "outputId": "4f252cac-38de-4f84-c88e-01699af552cc"
      },
      "execution_count": null,
      "outputs": [
        {
          "output_type": "stream",
          "name": "stdout",
          "text": [
            "+----------+------------+-----------+-----------+------------------+----------+--------------+--------------+-------------+------------+\n",
            "|product_id|product_name|supplier_id|category_id| quantity_per_unit|unit_price|units_in_stock|units_on_order|reorder_level|discontinued|\n",
            "+----------+------------+-----------+-----------+------------------+----------+--------------+--------------+-------------+------------+\n",
            "|         1|        Chai|          8|          1|10 boxes x 30 bags|      18.0|            39|             0|           10|           1|\n",
            "|         2|       Chang|          1|          1|24 - 12 oz bottles|      19.0|            17|            40|           25|           1|\n",
            "+----------+------------+-----------+-----------+------------------+----------+--------------+--------------+-------------+------------+\n",
            "only showing top 2 rows\n",
            "\n"
          ]
        }
      ]
    },
    {
      "cell_type": "code",
      "source": [
        "products_df.orderBy(products_df.units_in_stock.asc()).show(10)"
      ],
      "metadata": {
        "colab": {
          "base_uri": "https://localhost:8080/"
        },
        "id": "jOXBHC1Twr5n",
        "outputId": "7fa61b64-22fc-466f-e686-fd74736b98cf"
      },
      "execution_count": null,
      "outputs": [
        {
          "output_type": "stream",
          "name": "stdout",
          "text": [
            "+----------+--------------------+-----------+-----------+--------------------+----------+--------------+--------------+-------------+------------+\n",
            "|product_id|        product_name|supplier_id|category_id|   quantity_per_unit|unit_price|units_in_stock|units_on_order|reorder_level|discontinued|\n",
            "+----------+--------------------+-----------+-----------+--------------------+----------+--------------+--------------+-------------+------------+\n",
            "|        29|Thüringer Rostbra...|         12|          6|50 bags x 30 sausgs.|    123.79|             0|             0|            0|           1|\n",
            "|         5|Chef Anton's Gumb...|          2|          2|            36 boxes|     21.35|             0|             0|            0|           1|\n",
            "|        31|   Gorgonzola Telino|         14|          4|     12 - 100 g pkgs|      12.5|             0|            70|           20|           0|\n",
            "|        17|        Alice Mutton|          7|          6|      20 - 1 kg tins|      39.0|             0|             0|            0|           1|\n",
            "|        53|       Perth Pasties|         24|          6|           48 pieces|      32.8|             0|             0|            0|           1|\n",
            "|        21| Sir Rodney's Scones|          8|          3| 24 pkgs. x 4 pieces|      10.0|             3|            40|            5|           0|\n",
            "|        74|       Longlife Tofu|          4|          7|           5 kg pkg.|      10.0|             4|            20|            5|           0|\n",
            "|        66|Louisiana Hot Spi...|          2|          2|      24 - 8 oz jars|      17.0|             4|           100|           20|           0|\n",
            "|        45|         Rogede sild|         21|          8|             1k pkg.|       9.5|             5|            70|           15|           0|\n",
            "|         8|Northwoods Cranbe...|          3|          2|     12 - 12 oz jars|      40.0|             6|             0|            0|           0|\n",
            "+----------+--------------------+-----------+-----------+--------------------+----------+--------------+--------------+-------------+------------+\n",
            "only showing top 10 rows\n",
            "\n"
          ]
        }
      ]
    },
    {
      "cell_type": "code",
      "source": [
        "# 18. Mostrar los 10 productos con mayor stock\n",
        "products_df.orderBy(products_df.units_in_stock.desc()).show(10)\n"
      ],
      "metadata": {
        "colab": {
          "base_uri": "https://localhost:8080/"
        },
        "id": "hkpgOV2kxm-F",
        "outputId": "8b97c23b-0825-4a98-a31f-004863c53a34"
      },
      "execution_count": null,
      "outputs": [
        {
          "output_type": "stream",
          "name": "stdout",
          "text": [
            "+----------+--------------------+-----------+-----------+-------------------+----------+--------------+--------------+-------------+------------+\n",
            "|product_id|        product_name|supplier_id|category_id|  quantity_per_unit|unit_price|units_in_stock|units_on_order|reorder_level|discontinued|\n",
            "+----------+--------------------+-----------+-----------+-------------------+----------+--------------+--------------+-------------+------------+\n",
            "|        75|Rhönbräu Klosterbier|         12|          1| 24 - 0.5 l bottles|      7.75|           125|             0|           25|           0|\n",
            "|        40|    Boston Crab Meat|         19|          8|     24 - 4 oz tins|      18.4|           123|             0|           30|           0|\n",
            "|         6|Grandma's Boysenb...|          3|          2|     12 - 8 oz jars|      25.0|           120|             0|           25|           0|\n",
            "|        55|        Pâté chinois|         25|          6|  24 boxes x 2 pies|      24.0|           115|             0|           20|           0|\n",
            "|        61|      Sirop d'érable|         29|          2|24 - 500 ml bottles|      28.5|           113|             0|           25|           0|\n",
            "|        36|         Inlagd Sill|         17|          8|   24 - 250 g  jars|      19.0|           112|             0|           20|           0|\n",
            "|        33|             Geitost|         15|          4|              500 g|       2.5|           112|             0|           20|           0|\n",
            "|        34|       Sasquatch Ale|         16|          1| 24 - 12 oz bottles|      14.0|           111|             0|           15|           0|\n",
            "|        22| Gustaf's Knäckebröd|          9|          5|   24 - 500 g pkgs.|      21.0|           104|             0|           25|           0|\n",
            "|        73|          Röd Kaviar|         17|          8|    24 - 150 g jars|      15.0|           101|             0|            5|           0|\n",
            "+----------+--------------------+-----------+-----------+-------------------+----------+--------------+--------------+-------------+------------+\n",
            "only showing top 10 rows\n",
            "\n"
          ]
        }
      ]
    },
    {
      "cell_type": "code",
      "source": [
        "# 19. Mostrar los 10 productos con menor precio\n",
        "products_df.orderBy(products_df.unit_price.asc()).show(10)\n"
      ],
      "metadata": {
        "colab": {
          "base_uri": "https://localhost:8080/"
        },
        "id": "gOxXFd9o1sgl",
        "outputId": "6f58fcd3-a388-4da2-fece-5f2bb3e35084"
      },
      "execution_count": null,
      "outputs": [
        {
          "output_type": "stream",
          "name": "stdout",
          "text": [
            "+----------+--------------------+-----------+-----------+--------------------+----------+--------------+--------------+-------------+------------+\n",
            "|product_id|        product_name|supplier_id|category_id|   quantity_per_unit|unit_price|units_in_stock|units_on_order|reorder_level|discontinued|\n",
            "+----------+--------------------+-----------+-----------+--------------------+----------+--------------+--------------+-------------+------------+\n",
            "|        33|             Geitost|         15|          4|               500 g|       2.5|           112|             0|           20|           0|\n",
            "|        24|  Guaraná Fantástica|         10|          1|    12 - 355 ml cans|       4.5|            20|             0|            0|           1|\n",
            "|        13|               Konbu|          6|          8|            2 kg box|       6.0|            24|             0|            5|           0|\n",
            "|        52|            Filo Mix|         24|          5|     16 - 2 kg boxes|       7.0|            38|             0|           25|           0|\n",
            "|        54|           Tourtière|         25|          6|             16 pies|      7.45|            21|             0|           10|           0|\n",
            "|        75|Rhönbräu Klosterbier|         12|          1|  24 - 0.5 l bottles|      7.75|           125|             0|           25|           0|\n",
            "|        23|            Tunnbröd|          9|          5|    12 - 250 g pkgs.|       9.0|            61|             0|           25|           0|\n",
            "|        19|Teatime Chocolate...|          8|          3|10 boxes x 12 pieces|       9.2|            25|             0|            5|           0|\n",
            "|        47|       Zaanse koeken|         22|          3|     10 - 4 oz boxes|       9.5|            36|             0|            0|           0|\n",
            "|        45|         Rogede sild|         21|          8|             1k pkg.|       9.5|             5|            70|           15|           0|\n",
            "+----------+--------------------+-----------+-----------+--------------------+----------+--------------+--------------+-------------+------------+\n",
            "only showing top 10 rows\n",
            "\n"
          ]
        }
      ]
    },
    {
      "cell_type": "code",
      "source": [
        "# 20. Mostrar los 10 productos con mayor precio\n",
        "products_df.orderBy(products_df.unit_price.desc()).show(10)"
      ],
      "metadata": {
        "colab": {
          "base_uri": "https://localhost:8080/"
        },
        "id": "6MAploM124UU",
        "outputId": "a705cd1b-89b4-4c96-cd52-c9ad27d4556d"
      },
      "execution_count": null,
      "outputs": [
        {
          "output_type": "stream",
          "name": "stdout",
          "text": [
            "+----------+--------------------+-----------+-----------+--------------------+----------+--------------+--------------+-------------+------------+\n",
            "|product_id|        product_name|supplier_id|category_id|   quantity_per_unit|unit_price|units_in_stock|units_on_order|reorder_level|discontinued|\n",
            "+----------+--------------------+-----------+-----------+--------------------+----------+--------------+--------------+-------------+------------+\n",
            "|        38|       Côte de Blaye|         18|          1|  12 - 75 cl bottles|     263.5|            17|             0|           15|           0|\n",
            "|        29|Thüringer Rostbra...|         12|          6|50 bags x 30 sausgs.|    123.79|             0|             0|            0|           1|\n",
            "|         9|     Mishi Kobe Niku|          4|          6|    18 - 500 g pkgs.|      97.0|            29|             0|            0|           1|\n",
            "|        20|Sir Rodney's Marm...|          8|          3|       30 gift boxes|      81.0|            40|             0|            0|           0|\n",
            "|        18|    Carnarvon Tigers|          7|          8|          16 kg pkg.|      62.5|            42|             0|            0|           0|\n",
            "|        59|Raclette Courdavault|         28|          4|           5 kg pkg.|      55.0|            79|             0|            0|           0|\n",
            "|        51|Manjimup Dried Ap...|         24|          7|    50 - 300 g pkgs.|      53.0|            20|             0|           10|           0|\n",
            "|        62|      Tarte au sucre|         29|          3|             48 pies|      49.3|            17|             0|            0|           0|\n",
            "|        43|         Ipoh Coffee|         20|          1|     16 - 500 g tins|      46.0|            17|            10|           25|           0|\n",
            "|        28|   Rössle Sauerkraut|         12|          7|     25 - 825 g cans|      45.6|            26|             0|            0|           1|\n",
            "+----------+--------------------+-----------+-----------+--------------------+----------+--------------+--------------+-------------+------------+\n",
            "only showing top 10 rows\n",
            "\n"
          ]
        }
      ]
    },
    {
      "cell_type": "markdown",
      "source": [],
      "metadata": {
        "id": "pqdX4X6feGeh"
      }
    },
    {
      "cell_type": "code",
      "source": [],
      "metadata": {
        "id": "ZcqrlXCE6L-u"
      },
      "execution_count": null,
      "outputs": []
    },
    {
      "cell_type": "markdown",
      "source": [
        "# ***PRACTICA DE INTRODUCCION A TRANSACT SQL***"
      ],
      "metadata": {
        "id": "ycLCtvdy7GaJ"
      }
    },
    {
      "cell_type": "code",
      "source": [
        "# 1. Seleccionar todos los campos de la tabla clientes,ordenar por compania\n",
        "\n",
        "import pyspark.sql.functions as f\n",
        "\n",
        "customers_df.show(2)"
      ],
      "metadata": {
        "id": "0G7z5yHP7SAS",
        "colab": {
          "base_uri": "https://localhost:8080/"
        },
        "outputId": "f52a572d-d245-412b-a17d-983ca5a81088"
      },
      "execution_count": null,
      "outputs": [
        {
          "output_type": "stream",
          "name": "stdout",
          "text": [
            "+-----------+--------------------+------------+--------------------+--------------------+-----------+------+-----------+-------+------------+------------+\n",
            "|customer_id|        company_name|contact_name|       contact_title|             address|       city|region|postal_code|country|       phone|         fax|\n",
            "+-----------+--------------------+------------+--------------------+--------------------+-----------+------+-----------+-------+------------+------------+\n",
            "|      ALFKI| Alfreds Futterkiste|Maria Anders|Sales Representative|       Obere Str. 57|     Berlin|  null|      12209|Germany| 030-0074321| 030-0076545|\n",
            "|      ANATR|Ana Trujillo Empa...|Ana Trujillo|               Owner|Avda. de la Const...|México D.F.|  null|      05021| Mexico|(5) 555-4729|(5) 555-3745|\n",
            "+-----------+--------------------+------------+--------------------+--------------------+-----------+------+-----------+-------+------------+------------+\n",
            "only showing top 2 rows\n",
            "\n"
          ]
        }
      ]
    },
    {
      "cell_type": "code",
      "source": [
        "customers_df.orderBy(customers_df.company_name).show()"
      ],
      "metadata": {
        "colab": {
          "base_uri": "https://localhost:8080/"
        },
        "id": "nwA_td1mXtjY",
        "outputId": "8334186e-4a0a-4a30-b9b2-d3d731903453"
      },
      "execution_count": null,
      "outputs": [
        {
          "output_type": "stream",
          "name": "stdout",
          "text": [
            "+-----------+--------------------+------------------+--------------------+--------------------+------------+------+-----------+-----------+--------------+--------------+\n",
            "|customer_id|        company_name|      contact_name|       contact_title|             address|        city|region|postal_code|    country|         phone|           fax|\n",
            "+-----------+--------------------+------------------+--------------------+--------------------+------------+------+-----------+-----------+--------------+--------------+\n",
            "|      ALFKI| Alfreds Futterkiste|      Maria Anders|Sales Representative|       Obere Str. 57|      Berlin|  null|      12209|    Germany|   030-0074321|   030-0076545|\n",
            "|      ANATR|Ana Trujillo Empa...|      Ana Trujillo|               Owner|Avda. de la Const...| México D.F.|  null|      05021|     Mexico|  (5) 555-4729|  (5) 555-3745|\n",
            "|      ANTON|Antonio Moreno Ta...|    Antonio Moreno|               Owner|     Mataderos  2312| México D.F.|  null|      05023|     Mexico|  (5) 555-3932|          null|\n",
            "|      AROUT|     Around the Horn|      Thomas Hardy|Sales Representative|     120 Hanover Sq.|      London|  null|    WA1 1DP|         UK|(171) 555-7788|(171) 555-6750|\n",
            "|      BSBEV|       B's Beverages| Victoria Ashworth|Sales Representative|   Fauntleroy Circus|      London|  null|    EC2 5NT|         UK|(171) 555-1212|          null|\n",
            "|      BERGS|  Berglunds snabbköp|Christina Berglund| Order Administrator|     Berguvsvägen  8|       Luleå|  null|   S-958 22|     Sweden| 0921-12 34 65| 0921-12 34 67|\n",
            "|      BLAUS|Blauer See Delika...|        Hanna Moos|Sales Representative|      Forsterstr. 57|    Mannheim|  null|      68306|    Germany|    0621-08460|    0621-08924|\n",
            "|      BLONP|Blondesddsl père ...|Frédérique Citeaux|   Marketing Manager|    24, place Kléber|  Strasbourg|  null|      67000|     France|   88.60.15.31|   88.60.15.32|\n",
            "|      BONAP|            Bon app'|  Laurence Lebihan|               Owner|12, rue des Bouchers|   Marseille|  null|      13008|     France|   91.24.45.40|   91.24.45.41|\n",
            "|      BOTTM|Bottom-Dollar Mar...| Elizabeth Lincoln|  Accounting Manager|  23 Tsawassen Blvd.|   Tsawassen|    BC|    T2F 8M4|     Canada|(604) 555-4729|(604) 555-3745|\n",
            "|      BOLID|Bólido Comidas pr...|     Martín Sommer|               Owner|      C/ Araquil, 67|      Madrid|  null|      28023|      Spain|(91) 555 22 82|(91) 555 91 99|\n",
            "|      CACTU|Cactus Comidas pa...|  Patricio Simpson|         Sales Agent|         Cerrito 333|Buenos Aires|  null|       1010|  Argentina|  (1) 135-5555|  (1) 135-4892|\n",
            "|      CENTC|Centro comercial ...|   Francisco Chang|   Marketing Manager|Sierras de Granad...| México D.F.|  null|      05022|     Mexico|  (5) 555-3392|  (5) 555-7293|\n",
            "|      CHOPS|   Chop-suey Chinese|         Yang Wang|               Owner|        Hauptstr. 29|        Bern|  null|       3012|Switzerland|   0452-076545|          null|\n",
            "|      COMMI|    Comércio Mineiro|      Pedro Afonso|     Sales Associate|Av. dos Lusíadas, 23|   Sao Paulo|    SP|  05432-043|     Brazil| (11) 555-7647|          null|\n",
            "|      CONSH|Consolidated Hold...|   Elizabeth Brown|Sales Representative|Berkeley Gardens ...|      London|  null|    WX1 6LT|         UK|(171) 555-2282|(171) 555-9199|\n",
            "|      WANDK|   Die Wandernde Kuh|       Rita Müller|Sales Representative|   Adenauerallee 900|   Stuttgart|  null|      70563|    Germany|   0711-020361|   0711-035428|\n",
            "|      DRACD|Drachenblut Delik...|      Sven Ottlieb| Order Administrator|        Walserweg 21|      Aachen|  null|      52066|    Germany|   0241-039123|   0241-059428|\n",
            "|      DUMON|     Du monde entier|    Janine Labrune|               Owner|67, rue des Cinqu...|      Nantes|  null|      44000|     France|   40.67.88.88|   40.67.89.89|\n",
            "|      EASTC|  Eastern Connection|         Ann Devon|         Sales Agent|      35 King George|      London|  null|    WX3 6FW|         UK|(171) 555-0297|(171) 555-3373|\n",
            "+-----------+--------------------+------------------+--------------------+--------------------+------------+------+-----------+-----------+--------------+--------------+\n",
            "only showing top 20 rows\n",
            "\n"
          ]
        }
      ]
    },
    {
      "cell_type": "code",
      "source": [
        "# 2. Seleccionar todos los campos de clientes,cuya compania empiece con la letra B y pertenezcan a UK ,ordenar por nombre de la compania\n",
        "\n",
        "customers_df.show(3)"
      ],
      "metadata": {
        "colab": {
          "base_uri": "https://localhost:8080/"
        },
        "id": "W4-RSQy97tZS",
        "outputId": "d45d165c-7e84-46d0-b872-df6e6c88375f"
      },
      "execution_count": null,
      "outputs": [
        {
          "output_type": "stream",
          "name": "stdout",
          "text": [
            "+-----------+--------------------+--------------+--------------------+--------------------+-----------+------+-----------+-------+------------+------------+\n",
            "|customer_id|        company_name|  contact_name|       contact_title|             address|       city|region|postal_code|country|       phone|         fax|\n",
            "+-----------+--------------------+--------------+--------------------+--------------------+-----------+------+-----------+-------+------------+------------+\n",
            "|      ALFKI| Alfreds Futterkiste|  Maria Anders|Sales Representative|       Obere Str. 57|     Berlin|  null|      12209|Germany| 030-0074321| 030-0076545|\n",
            "|      ANATR|Ana Trujillo Empa...|  Ana Trujillo|               Owner|Avda. de la Const...|México D.F.|  null|      05021| Mexico|(5) 555-4729|(5) 555-3745|\n",
            "|      ANTON|Antonio Moreno Ta...|Antonio Moreno|               Owner|     Mataderos  2312|México D.F.|  null|      05023| Mexico|(5) 555-3932|        null|\n",
            "+-----------+--------------------+--------------+--------------------+--------------------+-----------+------+-----------+-------+------------+------------+\n",
            "only showing top 3 rows\n",
            "\n"
          ]
        }
      ]
    },
    {
      "cell_type": "code",
      "source": [
        "customers_df.filter(f.col('company_name').like('B%') & (f.col('country')=='UK')).show()"
      ],
      "metadata": {
        "colab": {
          "base_uri": "https://localhost:8080/"
        },
        "id": "53M7HCfHenC5",
        "outputId": "87114cf9-0339-479f-e3ce-959cbae50f7e"
      },
      "execution_count": null,
      "outputs": [
        {
          "output_type": "stream",
          "name": "stdout",
          "text": [
            "+-----------+-------------+-----------------+--------------------+-----------------+------+------+-----------+-------+--------------+----+\n",
            "|customer_id| company_name|     contact_name|       contact_title|          address|  city|region|postal_code|country|         phone| fax|\n",
            "+-----------+-------------+-----------------+--------------------+-----------------+------+------+-----------+-------+--------------+----+\n",
            "|      BSBEV|B's Beverages|Victoria Ashworth|Sales Representative|Fauntleroy Circus|London|  null|    EC2 5NT|     UK|(171) 555-1212|null|\n",
            "+-----------+-------------+-----------------+--------------------+-----------------+------+------+-----------+-------+--------------+----+\n",
            "\n"
          ]
        }
      ]
    },
    {
      "cell_type": "code",
      "source": [
        "# 3. Seleccionar todos los campos de productos de las categorias 1,3 y 5,ordenar por categoria\n",
        "\n",
        "products_df.show(2)"
      ],
      "metadata": {
        "colab": {
          "base_uri": "https://localhost:8080/"
        },
        "id": "AEUx69p8RRvE",
        "outputId": "67d7937c-8a94-4dc1-b99a-5126377a0d91"
      },
      "execution_count": null,
      "outputs": [
        {
          "output_type": "stream",
          "name": "stdout",
          "text": [
            "+----------+------------+-----------+-----------+------------------+----------+--------------+--------------+-------------+------------+\n",
            "|product_id|product_name|supplier_id|category_id| quantity_per_unit|unit_price|units_in_stock|units_on_order|reorder_level|discontinued|\n",
            "+----------+------------+-----------+-----------+------------------+----------+--------------+--------------+-------------+------------+\n",
            "|         1|        Chai|          8|          1|10 boxes x 30 bags|      18.0|            39|             0|           10|           1|\n",
            "|         2|       Chang|          1|          1|24 - 12 oz bottles|      19.0|            17|            40|           25|           1|\n",
            "+----------+------------+-----------+-----------+------------------+----------+--------------+--------------+-------------+------------+\n",
            "only showing top 2 rows\n",
            "\n"
          ]
        }
      ]
    },
    {
      "cell_type": "code",
      "source": [
        "df1=products_df.filter(products_df.category_id.isin(1,3,5))\n",
        "\n",
        "df1.show()"
      ],
      "metadata": {
        "colab": {
          "base_uri": "https://localhost:8080/"
        },
        "id": "YnjEpST0SJD-",
        "outputId": "236b4a12-419d-42e1-ba60-b7077f1fc82c"
      },
      "execution_count": null,
      "outputs": [
        {
          "output_type": "stream",
          "name": "stdout",
          "text": [
            "+----------+--------------------+-----------+-----------+--------------------+----------+--------------+--------------+-------------+------------+\n",
            "|product_id|        product_name|supplier_id|category_id|   quantity_per_unit|unit_price|units_in_stock|units_on_order|reorder_level|discontinued|\n",
            "+----------+--------------------+-----------+-----------+--------------------+----------+--------------+--------------+-------------+------------+\n",
            "|         1|                Chai|          8|          1|  10 boxes x 30 bags|      18.0|            39|             0|           10|           1|\n",
            "|         2|               Chang|          1|          1|  24 - 12 oz bottles|      19.0|            17|            40|           25|           1|\n",
            "|        16|             Pavlova|          7|          3|    32 - 500 g boxes|     17.45|            29|             0|           10|           0|\n",
            "|        19|Teatime Chocolate...|          8|          3|10 boxes x 12 pieces|       9.2|            25|             0|            5|           0|\n",
            "|        20|Sir Rodney's Marm...|          8|          3|       30 gift boxes|      81.0|            40|             0|            0|           0|\n",
            "|        21| Sir Rodney's Scones|          8|          3| 24 pkgs. x 4 pieces|      10.0|             3|            40|            5|           0|\n",
            "|        22| Gustaf's Knäckebröd|          9|          5|    24 - 500 g pkgs.|      21.0|           104|             0|           25|           0|\n",
            "|        23|            Tunnbröd|          9|          5|    12 - 250 g pkgs.|       9.0|            61|             0|           25|           0|\n",
            "|        24|  Guaraná Fantástica|         10|          1|    12 - 355 ml cans|       4.5|            20|             0|            0|           1|\n",
            "|        25|NuNuCa Nuß-Nougat...|         11|          3|  20 - 450 g glasses|      14.0|            76|             0|           30|           0|\n",
            "|        26| Gumbär Gummibärchen|         11|          3|    100 - 250 g bags|     31.23|            15|             0|            0|           0|\n",
            "|        27|  Schoggi Schokolade|         11|          3|  100 - 100 g pieces|      43.9|            49|             0|           30|           0|\n",
            "|        34|       Sasquatch Ale|         16|          1|  24 - 12 oz bottles|      14.0|           111|             0|           15|           0|\n",
            "|        35|      Steeleye Stout|         16|          1|  24 - 12 oz bottles|      18.0|            20|             0|           15|           0|\n",
            "|        38|       Côte de Blaye|         18|          1|  12 - 75 cl bottles|     263.5|            17|             0|           15|           0|\n",
            "|        39|    Chartreuse verte|         18|          1|   750 cc per bottle|      18.0|            69|             0|            5|           0|\n",
            "|        42|Singaporean Hokki...|         20|          5|     32 - 1 kg pkgs.|      14.0|            26|             0|            0|           1|\n",
            "|        43|         Ipoh Coffee|         20|          1|     16 - 500 g tins|      46.0|            17|            10|           25|           0|\n",
            "|        47|       Zaanse koeken|         22|          3|     10 - 4 oz boxes|       9.5|            36|             0|            0|           0|\n",
            "|        48|           Chocolade|         22|          3|            10 pkgs.|     12.75|            15|            70|           25|           0|\n",
            "+----------+--------------------+-----------+-----------+--------------------+----------+--------------+--------------+-------------+------------+\n",
            "only showing top 20 rows\n",
            "\n"
          ]
        }
      ]
    },
    {
      "cell_type": "code",
      "source": [
        "df1.orderBy(df1.category_id.asc()).show()"
      ],
      "metadata": {
        "colab": {
          "base_uri": "https://localhost:8080/"
        },
        "id": "k6_6gkjFgqwK",
        "outputId": "e31ca17f-3098-44a4-96d2-020744c07ad2"
      },
      "execution_count": null,
      "outputs": [
        {
          "output_type": "stream",
          "name": "stdout",
          "text": [
            "+----------+--------------------+-----------+-----------+--------------------+----------+--------------+--------------+-------------+------------+\n",
            "|product_id|        product_name|supplier_id|category_id|   quantity_per_unit|unit_price|units_in_stock|units_on_order|reorder_level|discontinued|\n",
            "+----------+--------------------+-----------+-----------+--------------------+----------+--------------+--------------+-------------+------------+\n",
            "|        24|  Guaraná Fantástica|         10|          1|    12 - 355 ml cans|       4.5|            20|             0|            0|           1|\n",
            "|         2|               Chang|          1|          1|  24 - 12 oz bottles|      19.0|            17|            40|           25|           1|\n",
            "|        75|Rhönbräu Klosterbier|         12|          1|  24 - 0.5 l bottles|      7.75|           125|             0|           25|           0|\n",
            "|        76|        Lakkalikööri|         23|          1|              500 ml|      18.0|            57|             0|           20|           0|\n",
            "|        38|       Côte de Blaye|         18|          1|  12 - 75 cl bottles|     263.5|            17|             0|           15|           0|\n",
            "|        39|    Chartreuse verte|         18|          1|   750 cc per bottle|      18.0|            69|             0|            5|           0|\n",
            "|         1|                Chai|          8|          1|  10 boxes x 30 bags|      18.0|            39|             0|           10|           1|\n",
            "|        43|         Ipoh Coffee|         20|          1|     16 - 500 g tins|      46.0|            17|            10|           25|           0|\n",
            "|        34|       Sasquatch Ale|         16|          1|  24 - 12 oz bottles|      14.0|           111|             0|           15|           0|\n",
            "|        67|Laughing Lumberja...|         16|          1|  24 - 12 oz bottles|      14.0|            52|             0|           10|           0|\n",
            "|        70|       Outback Lager|          7|          1| 24 - 355 ml bottles|      15.0|            15|            10|           30|           0|\n",
            "|        35|      Steeleye Stout|         16|          1|  24 - 12 oz bottles|      18.0|            20|             0|           15|           0|\n",
            "|        16|             Pavlova|          7|          3|    32 - 500 g boxes|     17.45|            29|             0|           10|           0|\n",
            "|        21| Sir Rodney's Scones|          8|          3| 24 pkgs. x 4 pieces|      10.0|             3|            40|            5|           0|\n",
            "|        19|Teatime Chocolate...|          8|          3|10 boxes x 12 pieces|       9.2|            25|             0|            5|           0|\n",
            "|        25|NuNuCa Nuß-Nougat...|         11|          3|  20 - 450 g glasses|      14.0|            76|             0|           30|           0|\n",
            "|        47|       Zaanse koeken|         22|          3|     10 - 4 oz boxes|       9.5|            36|             0|            0|           0|\n",
            "|        20|Sir Rodney's Marm...|          8|          3|       30 gift boxes|      81.0|            40|             0|            0|           0|\n",
            "|        26| Gumbär Gummibärchen|         11|          3|    100 - 250 g bags|     31.23|            15|             0|            0|           0|\n",
            "|        48|           Chocolade|         22|          3|            10 pkgs.|     12.75|            15|            70|           25|           0|\n",
            "+----------+--------------------+-----------+-----------+--------------------+----------+--------------+--------------+-------------+------------+\n",
            "only showing top 20 rows\n",
            "\n"
          ]
        }
      ]
    },
    {
      "cell_type": "code",
      "source": [
        "# 4. Seleccionar los productos cuyos precios unitarios estan entre 50 y 200\n",
        "\n",
        "products_df.filter(products_df.unit_price.between(50.0,200.0)).show()"
      ],
      "metadata": {
        "colab": {
          "base_uri": "https://localhost:8080/"
        },
        "id": "SVW2RlRrosg_",
        "outputId": "63418d32-39b8-42f8-acf9-0ff5148f47a8"
      },
      "execution_count": null,
      "outputs": [
        {
          "output_type": "stream",
          "name": "stdout",
          "text": [
            "+----------+--------------------+-----------+-----------+--------------------+----------+--------------+--------------+-------------+------------+\n",
            "|product_id|        product_name|supplier_id|category_id|   quantity_per_unit|unit_price|units_in_stock|units_on_order|reorder_level|discontinued|\n",
            "+----------+--------------------+-----------+-----------+--------------------+----------+--------------+--------------+-------------+------------+\n",
            "|         9|     Mishi Kobe Niku|          4|          6|    18 - 500 g pkgs.|      97.0|            29|             0|            0|           1|\n",
            "|        18|    Carnarvon Tigers|          7|          8|          16 kg pkg.|      62.5|            42|             0|            0|           0|\n",
            "|        20|Sir Rodney's Marm...|          8|          3|       30 gift boxes|      81.0|            40|             0|            0|           0|\n",
            "|        29|Thüringer Rostbra...|         12|          6|50 bags x 30 sausgs.|    123.79|             0|             0|            0|           1|\n",
            "|        51|Manjimup Dried Ap...|         24|          7|    50 - 300 g pkgs.|      53.0|            20|             0|           10|           0|\n",
            "|        59|Raclette Courdavault|         28|          4|           5 kg pkg.|      55.0|            79|             0|            0|           0|\n",
            "+----------+--------------------+-----------+-----------+--------------------+----------+--------------+--------------+-------------+------------+\n",
            "\n"
          ]
        }
      ]
    },
    {
      "cell_type": "code",
      "source": [
        "# 5. Visualizar el nombre y el id de la compania del cliente,fecha,precio unitario y producto de la orden\n",
        "products_df.show(1)\n",
        "order_details.show(1)\n",
        "orders_df.show(1)\n",
        "customers_df.show(1)"
      ],
      "metadata": {
        "colab": {
          "base_uri": "https://localhost:8080/"
        },
        "id": "FaFHkACeqt8N",
        "outputId": "df1e5c34-6ab2-437f-8918-c499e6708656"
      },
      "execution_count": null,
      "outputs": [
        {
          "output_type": "stream",
          "name": "stdout",
          "text": [
            "+----------+------------+-----------+-----------+------------------+----------+--------------+--------------+-------------+------------+\n",
            "|product_id|product_name|supplier_id|category_id| quantity_per_unit|unit_price|units_in_stock|units_on_order|reorder_level|discontinued|\n",
            "+----------+------------+-----------+-----------+------------------+----------+--------------+--------------+-------------+------------+\n",
            "|         1|        Chai|          8|          1|10 boxes x 30 bags|      18.0|            39|             0|           10|           1|\n",
            "+----------+------------+-----------+-----------+------------------+----------+--------------+--------------+-------------+------------+\n",
            "only showing top 1 row\n",
            "\n",
            "+--------+----------+----------+--------+--------+\n",
            "|order_id|product_id|unit_price|quantity|discount|\n",
            "+--------+----------+----------+--------+--------+\n",
            "|   10248|        11|      14.0|      12|     0.0|\n",
            "+--------+----------+----------+--------+--------+\n",
            "only showing top 1 row\n",
            "\n",
            "+--------+-----------+-----------+----------+-------------+------------+--------+-------+--------------------+------------------+---------+-----------+----------------+------------+\n",
            "|order_id|customer_id|employee_id|order_date|required_date|shipped_date|ship_via|freight|           ship_name|      ship_address|ship_city|ship_region|ship_postal_code|ship_country|\n",
            "+--------+-----------+-----------+----------+-------------+------------+--------+-------+--------------------+------------------+---------+-----------+----------------+------------+\n",
            "|   10248|      VINET|          5|1996-07-04|   1996-08-01|  1996-07-16|       3|  32.38|Vins et alcools C...|59 rue de l'Abbaye|    Reims|       null|           51100|      France|\n",
            "+--------+-----------+-----------+----------+-------------+------------+--------+-------+--------------------+------------------+---------+-----------+----------------+------------+\n",
            "only showing top 1 row\n",
            "\n",
            "+-----------+-------------------+------------+--------------------+-------------+------+------+-----------+-------+-----------+-----------+\n",
            "|customer_id|       company_name|contact_name|       contact_title|      address|  city|region|postal_code|country|      phone|        fax|\n",
            "+-----------+-------------------+------------+--------------------+-------------+------+------+-----------+-------+-----------+-----------+\n",
            "|      ALFKI|Alfreds Futterkiste|Maria Anders|Sales Representative|Obere Str. 57|Berlin|  null|      12209|Germany|030-0074321|030-0076545|\n",
            "+-----------+-------------------+------------+--------------------+-------------+------+------+-----------+-------+-----------+-----------+\n",
            "only showing top 1 row\n",
            "\n"
          ]
        }
      ]
    },
    {
      "cell_type": "code",
      "source": [
        "products_df.join(order_details, on=['product_id'], how='inner').join(orders_df, on=['order_id']).join(customers_df, on=['customer_id']).select(\n",
        "    orders_df.order_id,\n",
        "    customers_df.company_name,\n",
        "    orders_df.order_date,\n",
        "    order_details.unit_price,\n",
        "    products_df.product_name).show(3)"
      ],
      "metadata": {
        "colab": {
          "base_uri": "https://localhost:8080/"
        },
        "id": "ClOJfpxXuXGQ",
        "outputId": "37b33764-a7bf-447a-a4aa-e0d229b7f33d"
      },
      "execution_count": null,
      "outputs": [
        {
          "output_type": "stream",
          "name": "stdout",
          "text": [
            "+--------+--------------------+----------+----------+-----------------+\n",
            "|order_id|        company_name|order_date|unit_price|     product_name|\n",
            "+--------+--------------------+----------+----------+-----------------+\n",
            "|   10253|       Hanari Carnes|1996-07-10|      10.0|Gorgonzola Telino|\n",
            "|   10272|Rattlesnake Canyo...|1996-08-02|      10.0|Gorgonzola Telino|\n",
            "|   10273|          QUICK-Stop|1996-08-05|      10.0|Gorgonzola Telino|\n",
            "+--------+--------------------+----------+----------+-----------------+\n",
            "only showing top 3 rows\n",
            "\n"
          ]
        }
      ]
    },
    {
      "cell_type": "code",
      "source": [
        "# 6. Visualizar el nombre de la categoria y el numero de productos que hay por cada categoria.\n",
        "\n",
        "products_df.show(2)\n",
        "categories_df.show(2)"
      ],
      "metadata": {
        "id": "V-KViZSAjdmX",
        "colab": {
          "base_uri": "https://localhost:8080/"
        },
        "outputId": "09bdb417-1636-4e56-8a7d-b4666dbd804a"
      },
      "execution_count": null,
      "outputs": [
        {
          "output_type": "stream",
          "name": "stdout",
          "text": [
            "+----------+------------+-----------+-----------+------------------+----------+--------------+--------------+-------------+------------+\n",
            "|product_id|product_name|supplier_id|category_id| quantity_per_unit|unit_price|units_in_stock|units_on_order|reorder_level|discontinued|\n",
            "+----------+------------+-----------+-----------+------------------+----------+--------------+--------------+-------------+------------+\n",
            "|         1|        Chai|          8|          1|10 boxes x 30 bags|      18.0|            39|             0|           10|           1|\n",
            "|         2|       Chang|          1|          1|24 - 12 oz bottles|      19.0|            17|            40|           25|           1|\n",
            "+----------+------------+-----------+-----------+------------------+----------+--------------+--------------+-------------+------------+\n",
            "only showing top 2 rows\n",
            "\n",
            "+-----------+-------------+--------------------+-------+\n",
            "|category_id|category_name|         description|picture|\n",
            "+-----------+-------------+--------------------+-------+\n",
            "|          1|    Beverages|Soft drinks, coff...|     []|\n",
            "|          2|   Condiments|Sweet and savory ...|     []|\n",
            "+-----------+-------------+--------------------+-------+\n",
            "only showing top 2 rows\n",
            "\n"
          ]
        }
      ]
    },
    {
      "cell_type": "code",
      "source": [
        "df_cat = categories_df.join(products_df, on=['category_id'], how='inner').show(2)\n",
        "\n"
      ],
      "metadata": {
        "colab": {
          "base_uri": "https://localhost:8080/"
        },
        "id": "AtzweiM1xwMp",
        "outputId": "11bdafe0-10ce-4267-b334-e5836ed8d893"
      },
      "execution_count": null,
      "outputs": [
        {
          "output_type": "stream",
          "name": "stdout",
          "text": [
            "+-----------+-------------+--------------------+-------+----------+------------+-----------+------------------+----------+--------------+--------------+-------------+------------+\n",
            "|category_id|category_name|         description|picture|product_id|product_name|supplier_id| quantity_per_unit|unit_price|units_in_stock|units_on_order|reorder_level|discontinued|\n",
            "+-----------+-------------+--------------------+-------+----------+------------+-----------+------------------+----------+--------------+--------------+-------------+------------+\n",
            "|          1|    Beverages|Soft drinks, coff...|     []|         1|        Chai|          8|10 boxes x 30 bags|      18.0|            39|             0|           10|           1|\n",
            "|          1|    Beverages|Soft drinks, coff...|     []|         2|       Chang|          1|24 - 12 oz bottles|      19.0|            17|            40|           25|           1|\n",
            "+-----------+-------------+--------------------+-------+----------+------------+-----------+------------------+----------+--------------+--------------+-------------+------------+\n",
            "only showing top 2 rows\n",
            "\n"
          ]
        }
      ]
    },
    {
      "cell_type": "code",
      "source": [
        "df_cat.count"
      ],
      "metadata": {
        "id": "aT35vA-7113k"
      },
      "execution_count": null,
      "outputs": []
    },
    {
      "cell_type": "code",
      "source": [
        "# 7. Seleccionar los 5 productos mas vendidos"
      ],
      "metadata": {
        "id": "UisWutbkjkV9"
      },
      "execution_count": null,
      "outputs": []
    },
    {
      "cell_type": "code",
      "source": [
        "#8. Seleccionar los jefes de los empleados"
      ],
      "metadata": {
        "id": "g55JzJA0v5jg"
      },
      "execution_count": null,
      "outputs": []
    },
    {
      "cell_type": "code",
      "source": [
        "#9. Obtener todos los productos cuyo nombre comienzan con M y tienen un precio comprendido entre 28 y 129\n",
        "\n",
        "products_df.filter(f.col('product_name').like('M%') & (products_df.unit_price.between(28,129))).show()"
      ],
      "metadata": {
        "colab": {
          "base_uri": "https://localhost:8080/"
        },
        "id": "hUV_QIzKuEgu",
        "outputId": "8b270e2a-2cb6-40ed-fa8c-574b320aa8c8"
      },
      "execution_count": null,
      "outputs": [
        {
          "output_type": "stream",
          "name": "stdout",
          "text": [
            "+----------+--------------------+-----------+-----------+-----------------+----------+--------------+--------------+-------------+------------+\n",
            "|product_id|        product_name|supplier_id|category_id|quantity_per_unit|unit_price|units_in_stock|units_on_order|reorder_level|discontinued|\n",
            "+----------+--------------------+-----------+-----------+-----------------+----------+--------------+--------------+-------------+------------+\n",
            "|         9|     Mishi Kobe Niku|          4|          6| 18 - 500 g pkgs.|      97.0|            29|             0|            0|           1|\n",
            "|        32|  Mascarpone Fabioli|         14|          4| 24 - 200 g pkgs.|      32.0|             9|            40|           25|           0|\n",
            "|        51|Manjimup Dried Ap...|         24|          7| 50 - 300 g pkgs.|      53.0|            20|             0|           10|           0|\n",
            "|        72|Mozzarella di Gio...|         14|          4| 24 - 200 g pkgs.|      34.8|            14|             0|            0|           0|\n",
            "+----------+--------------------+-----------+-----------+-----------------+----------+--------------+--------------+-------------+------------+\n",
            "\n"
          ]
        }
      ]
    },
    {
      "cell_type": "code",
      "source": [
        "# 10. Obtener todos los clientes del Pais de USA,Francia y UK\n",
        "\n",
        "customers_df.filter(customers_df.country.isin(['USA','UK','France'])).show(10)"
      ],
      "metadata": {
        "colab": {
          "base_uri": "https://localhost:8080/"
        },
        "id": "Y_oCt2tXMpRi",
        "outputId": "bd077b26-b508-4817-a6fa-b97c9779c941"
      },
      "execution_count": null,
      "outputs": [
        {
          "output_type": "stream",
          "name": "stdout",
          "text": [
            "+-----------+--------------------+------------------+--------------------+--------------------+----------+------+-----------+-------+--------------+--------------+\n",
            "|customer_id|        company_name|      contact_name|       contact_title|             address|      city|region|postal_code|country|         phone|           fax|\n",
            "+-----------+--------------------+------------------+--------------------+--------------------+----------+------+-----------+-------+--------------+--------------+\n",
            "|      AROUT|     Around the Horn|      Thomas Hardy|Sales Representative|     120 Hanover Sq.|    London|  null|    WA1 1DP|     UK|(171) 555-7788|(171) 555-6750|\n",
            "|      BLONP|Blondesddsl père ...|Frédérique Citeaux|   Marketing Manager|    24, place Kléber|Strasbourg|  null|      67000| France|   88.60.15.31|   88.60.15.32|\n",
            "|      BONAP|            Bon app'|  Laurence Lebihan|               Owner|12, rue des Bouchers| Marseille|  null|      13008| France|   91.24.45.40|   91.24.45.41|\n",
            "|      BSBEV|       B's Beverages| Victoria Ashworth|Sales Representative|   Fauntleroy Circus|    London|  null|    EC2 5NT|     UK|(171) 555-1212|          null|\n",
            "|      CONSH|Consolidated Hold...|   Elizabeth Brown|Sales Representative|Berkeley Gardens ...|    London|  null|    WX1 6LT|     UK|(171) 555-2282|(171) 555-9199|\n",
            "|      DUMON|     Du monde entier|    Janine Labrune|               Owner|67, rue des Cinqu...|    Nantes|  null|      44000| France|   40.67.88.88|   40.67.89.89|\n",
            "|      EASTC|  Eastern Connection|         Ann Devon|         Sales Agent|      35 King George|    London|  null|    WX3 6FW|     UK|(171) 555-0297|(171) 555-3373|\n",
            "|      FOLIG|   Folies gourmandes|     Martine Rancé|Assistant Sales A...|184, chaussée de ...|     Lille|  null|      59000| France|   20.16.10.16|   20.16.10.17|\n",
            "|      FRANR| France restauration|    Carine Schmitt|   Marketing Manager|      54, rue Royale|    Nantes|  null|      44000| France|   40.32.21.21|   40.32.21.20|\n",
            "|      GREAL|Great Lakes Food ...|     Howard Snyder|   Marketing Manager|    2732 Baker Blvd.|    Eugene|    OR|      97403|    USA|(503) 555-7555|          null|\n",
            "+-----------+--------------------+------------------+--------------------+--------------------+----------+------+-----------+-------+--------------+--------------+\n",
            "only showing top 10 rows\n",
            "\n"
          ]
        }
      ]
    },
    {
      "cell_type": "code",
      "source": [
        "# 11. Obtener todos los productos descontinuados o con stock cero.\n",
        "products_df.show(2)\n",
        "\n"
      ],
      "metadata": {
        "id": "fvvFm4njQkQ7",
        "colab": {
          "base_uri": "https://localhost:8080/"
        },
        "outputId": "c1a0fccb-8a9d-4329-fdd9-7a89a2e160d2"
      },
      "execution_count": null,
      "outputs": [
        {
          "output_type": "stream",
          "name": "stdout",
          "text": [
            "+----------+------------+-----------+-----------+------------------+----------+--------------+--------------+-------------+------------+\n",
            "|product_id|product_name|supplier_id|category_id| quantity_per_unit|unit_price|units_in_stock|units_on_order|reorder_level|discontinued|\n",
            "+----------+------------+-----------+-----------+------------------+----------+--------------+--------------+-------------+------------+\n",
            "|         1|        Chai|          8|          1|10 boxes x 30 bags|      18.0|            39|             0|           10|           1|\n",
            "|         2|       Chang|          1|          1|24 - 12 oz bottles|      19.0|            17|            40|           25|           1|\n",
            "+----------+------------+-----------+-----------+------------------+----------+--------------+--------------+-------------+------------+\n",
            "only showing top 2 rows\n",
            "\n"
          ]
        }
      ]
    },
    {
      "cell_type": "code",
      "source": [
        "products_df.filter((products_df.discontinued == 1) &  (products_df.units_in_stock ==0)).show(3)"
      ],
      "metadata": {
        "colab": {
          "base_uri": "https://localhost:8080/"
        },
        "id": "1qaWl9x_-uXK",
        "outputId": "23bbd020-6eb5-46a5-9931-a435254d8a07"
      },
      "execution_count": null,
      "outputs": [
        {
          "output_type": "stream",
          "name": "stdout",
          "text": [
            "+----------+--------------------+-----------+-----------+--------------------+----------+--------------+--------------+-------------+------------+\n",
            "|product_id|        product_name|supplier_id|category_id|   quantity_per_unit|unit_price|units_in_stock|units_on_order|reorder_level|discontinued|\n",
            "+----------+--------------------+-----------+-----------+--------------------+----------+--------------+--------------+-------------+------------+\n",
            "|         5|Chef Anton's Gumb...|          2|          2|            36 boxes|     21.35|             0|             0|            0|           1|\n",
            "|        17|        Alice Mutton|          7|          6|      20 - 1 kg tins|      39.0|             0|             0|            0|           1|\n",
            "|        29|Thüringer Rostbra...|         12|          6|50 bags x 30 sausgs.|    123.79|             0|             0|            0|           1|\n",
            "+----------+--------------------+-----------+-----------+--------------------+----------+--------------+--------------+-------------+------------+\n",
            "only showing top 3 rows\n",
            "\n"
          ]
        }
      ]
    },
    {
      "cell_type": "code",
      "source": [
        "# 12. Obtener todas las ordenes hechas por el empleado King Robert\n"
      ],
      "metadata": {
        "id": "eoF-vxnGPTDa"
      },
      "execution_count": null,
      "outputs": []
    },
    {
      "cell_type": "code",
      "source": [
        "# 13. Obtener todas las ordenes por el cliente cuya compania es \"Que delicia\""
      ],
      "metadata": {
        "id": "W-lUTpOWPW6S"
      },
      "execution_count": null,
      "outputs": []
    },
    {
      "cell_type": "code",
      "source": [
        "# 14. Obtener todas las ordenes hechas por el empleado King Robert,Davolio Nancy y Fuller Andrew"
      ],
      "metadata": {
        "id": "xI_ijI4cP-mA"
      },
      "execution_count": null,
      "outputs": []
    },
    {
      "cell_type": "code",
      "source": [
        "# 15. Obtener todos los productos(codigo,nombre,precio,stock) de la orden 10257"
      ],
      "metadata": {
        "id": "sWb_ZjI4Qs3u"
      },
      "execution_count": null,
      "outputs": []
    },
    {
      "cell_type": "code",
      "source": [
        "#16. Obtener todos los productos(codigo,nombre,precio,stock) de las ordenes hechas desde 1997 hasta la fecha de hoy."
      ],
      "metadata": {
        "id": "V6AQQ6b8Th6i"
      },
      "execution_count": null,
      "outputs": []
    },
    {
      "cell_type": "code",
      "source": [
        "# 17. Calcular los 15 productos mas caros\n",
        "\n",
        "products_df.show(3)"
      ],
      "metadata": {
        "colab": {
          "base_uri": "https://localhost:8080/"
        },
        "id": "oAsPaQqXTo4h",
        "outputId": "79909a50-6228-4f8e-ebfe-f65ef6e53f42"
      },
      "execution_count": null,
      "outputs": [
        {
          "output_type": "stream",
          "name": "stdout",
          "text": [
            "+----------+-------------+-----------+-----------+-------------------+----------+--------------+--------------+-------------+------------+\n",
            "|product_id| product_name|supplier_id|category_id|  quantity_per_unit|unit_price|units_in_stock|units_on_order|reorder_level|discontinued|\n",
            "+----------+-------------+-----------+-----------+-------------------+----------+--------------+--------------+-------------+------------+\n",
            "|         1|         Chai|          8|          1| 10 boxes x 30 bags|      18.0|            39|             0|           10|           1|\n",
            "|         2|        Chang|          1|          1| 24 - 12 oz bottles|      19.0|            17|            40|           25|           1|\n",
            "|         3|Aniseed Syrup|          1|          2|12 - 550 ml bottles|      10.0|            13|            70|           25|           0|\n",
            "+----------+-------------+-----------+-----------+-------------------+----------+--------------+--------------+-------------+------------+\n",
            "only showing top 3 rows\n",
            "\n"
          ]
        }
      ]
    },
    {
      "cell_type": "code",
      "source": [
        "products_df.orderBy(products_df.unit_price.desc()).show(15)"
      ],
      "metadata": {
        "colab": {
          "base_uri": "https://localhost:8080/"
        },
        "id": "cB72YpWlT0Vh",
        "outputId": "e93e4735-a245-4e02-889e-6b726f2df173"
      },
      "execution_count": null,
      "outputs": [
        {
          "output_type": "stream",
          "name": "stdout",
          "text": [
            "+----------+--------------------+-----------+-----------+--------------------+----------+--------------+--------------+-------------+------------+\n",
            "|product_id|        product_name|supplier_id|category_id|   quantity_per_unit|unit_price|units_in_stock|units_on_order|reorder_level|discontinued|\n",
            "+----------+--------------------+-----------+-----------+--------------------+----------+--------------+--------------+-------------+------------+\n",
            "|        38|       Côte de Blaye|         18|          1|  12 - 75 cl bottles|     263.5|            17|             0|           15|           0|\n",
            "|        29|Thüringer Rostbra...|         12|          6|50 bags x 30 sausgs.|    123.79|             0|             0|            0|           1|\n",
            "|         9|     Mishi Kobe Niku|          4|          6|    18 - 500 g pkgs.|      97.0|            29|             0|            0|           1|\n",
            "|        20|Sir Rodney's Marm...|          8|          3|       30 gift boxes|      81.0|            40|             0|            0|           0|\n",
            "|        18|    Carnarvon Tigers|          7|          8|          16 kg pkg.|      62.5|            42|             0|            0|           0|\n",
            "|        59|Raclette Courdavault|         28|          4|           5 kg pkg.|      55.0|            79|             0|            0|           0|\n",
            "|        51|Manjimup Dried Ap...|         24|          7|    50 - 300 g pkgs.|      53.0|            20|             0|           10|           0|\n",
            "|        62|      Tarte au sucre|         29|          3|             48 pies|      49.3|            17|             0|            0|           0|\n",
            "|        43|         Ipoh Coffee|         20|          1|     16 - 500 g tins|      46.0|            17|            10|           25|           0|\n",
            "|        28|   Rössle Sauerkraut|         12|          7|     25 - 825 g cans|      45.6|            26|             0|            0|           1|\n",
            "|        63|        Vegie-spread|          7|          2|     15 - 625 g jars|      43.9|            24|             0|            5|           0|\n",
            "|        27|  Schoggi Schokolade|         11|          3|  100 - 100 g pieces|      43.9|            49|             0|           30|           0|\n",
            "|         8|Northwoods Cranbe...|          3|          2|     12 - 12 oz jars|      40.0|             6|             0|            0|           0|\n",
            "|        17|        Alice Mutton|          7|          6|      20 - 1 kg tins|      39.0|             0|             0|            0|           1|\n",
            "|        12|Queso Manchego La...|          5|          4|    10 - 500 g pkgs.|      38.0|            86|             0|            0|           0|\n",
            "+----------+--------------------+-----------+-----------+--------------------+----------+--------------+--------------+-------------+------------+\n",
            "only showing top 15 rows\n",
            "\n"
          ]
        }
      ]
    },
    {
      "cell_type": "code",
      "source": [
        "# 18. Calcular los 5 productos mas baratos\n",
        "\n",
        "products_df.orderBy(products_df.unit_price.asc()).show(5)"
      ],
      "metadata": {
        "colab": {
          "base_uri": "https://localhost:8080/"
        },
        "id": "dShb6_arUsSB",
        "outputId": "299ff334-ce72-4bd7-95d4-7f8c5fa0dff0"
      },
      "execution_count": null,
      "outputs": [
        {
          "output_type": "stream",
          "name": "stdout",
          "text": [
            "+----------+------------------+-----------+-----------+-----------------+----------+--------------+--------------+-------------+------------+\n",
            "|product_id|      product_name|supplier_id|category_id|quantity_per_unit|unit_price|units_in_stock|units_on_order|reorder_level|discontinued|\n",
            "+----------+------------------+-----------+-----------+-----------------+----------+--------------+--------------+-------------+------------+\n",
            "|        33|           Geitost|         15|          4|            500 g|       2.5|           112|             0|           20|           0|\n",
            "|        24|Guaraná Fantástica|         10|          1| 12 - 355 ml cans|       4.5|            20|             0|            0|           1|\n",
            "|        13|             Konbu|          6|          8|         2 kg box|       6.0|            24|             0|            5|           0|\n",
            "|        52|          Filo Mix|         24|          5|  16 - 2 kg boxes|       7.0|            38|             0|           25|           0|\n",
            "|        54|         Tourtière|         25|          6|          16 pies|      7.45|            21|             0|           10|           0|\n",
            "+----------+------------------+-----------+-----------+-----------------+----------+--------------+--------------+-------------+------------+\n",
            "only showing top 5 rows\n",
            "\n"
          ]
        }
      ]
    },
    {
      "cell_type": "code",
      "source": [
        "# 19. Obtener el nombre de todas las categorias y los nombres de sus productos,precio y stock.\n"
      ],
      "metadata": {
        "id": "GoYtLbxoW4yr"
      },
      "execution_count": null,
      "outputs": []
    },
    {
      "cell_type": "code",
      "source": [
        "# 20. Obtener el nombre de todas las categorias y los nombres de sus productos,solo los productos que su nombre no comience con la letra P"
      ],
      "metadata": {
        "id": "RIhmbrwBXFHR"
      },
      "execution_count": null,
      "outputs": []
    },
    {
      "cell_type": "code",
      "source": [
        "# 21. Calcular el stock de productos por cada categoria.Mostrar el nombre de la categoria y el stock por categoria."
      ],
      "metadata": {
        "id": "tNHCmS0JZBWH"
      },
      "execution_count": null,
      "outputs": []
    },
    {
      "cell_type": "code",
      "source": [
        "# 22. Obtener el Nombre del cliente,Nombre del Proveedor,Nombre del empleado y el nombre de los productos que estan en la orden 10794"
      ],
      "metadata": {
        "id": "xGCKGuulZH1I"
      },
      "execution_count": null,
      "outputs": []
    },
    {
      "cell_type": "code",
      "source": [
        "# 23. Mostrar el numero de ordenes de cada uno de los clientes por año,luego ordenar codigo del cliente y el año."
      ],
      "metadata": {
        "id": "LOM_KocwZQj8"
      },
      "execution_count": null,
      "outputs": []
    },
    {
      "cell_type": "code",
      "source": [
        "# 24. Contar el numero de ordenes que se han realizado por años y meses,luego debe ser ordenado por año y por mes."
      ],
      "metadata": {
        "id": "UzR_UyjCZY27"
      },
      "execution_count": null,
      "outputs": []
    },
    {
      "cell_type": "code",
      "source": [
        "# 25. Seleccionar el nombre de la compañía del cliente,él código de la orden de compra,la fecha de la orden de compra, código del producto, \n",
        "# cantidad pedida del producto,nombre del producto, el nombre de la compañía proveedora y la ciudad del proveedor ,usar Join"
      ],
      "metadata": {
        "id": "EEAyNuvfZejh"
      },
      "execution_count": null,
      "outputs": []
    },
    {
      "cell_type": "code",
      "source": [
        "# 26. Seleccionar el nombre de la compañía del cliente, nombre del contacto, el código de la orden de compra, la fecha de la orden de compra, \n",
        "# el código del producto,cantidad pedida del producto, nombre del producto y el nombre de la compañía proveedora, usas JOIN.Solamente las \n",
        "# compañías proveedoras que comienzan con la letra de la A hasta la letra G,además la cantidad pedida del producto debe estar entre 23 y 187."
      ],
      "metadata": {
        "id": "D0TIaH4kZu29"
      },
      "execution_count": null,
      "outputs": []
    },
    {
      "cell_type": "code",
      "source": [],
      "metadata": {
        "id": "klQJEnr2amdg"
      },
      "execution_count": null,
      "outputs": []
    }
  ],
  "metadata": {
    "colab": {
      "provenance": [],
      "authorship_tag": "ABX9TyPIDmbxJkD6d5RfquKE1LH6",
      "include_colab_link": true
    },
    "kernelspec": {
      "display_name": "Python 3",
      "name": "python3"
    },
    "language_info": {
      "name": "python"
    }
  },
  "nbformat": 4,
  "nbformat_minor": 0
}